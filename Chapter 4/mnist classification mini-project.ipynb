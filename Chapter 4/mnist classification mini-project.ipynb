{
 "cells": [
  {
   "cell_type": "markdown",
   "id": "5730c381",
   "metadata": {},
   "source": [
    "# Introduction"
   ]
  },
  {
   "cell_type": "markdown",
   "id": "705ada18",
   "metadata": {},
   "source": [
    "in this notebook, we train an XGBoost model to classify the mnist data. \n",
    "\n",
    "Although traditionally a neural network project, XBosst can obtain 97.78% accuracy without any hyper-parameter tuning. \n",
    "\n",
    "In general, early stopping can be used to improve the testing accuracy of a Gradient boosted model.\n",
    "\n",
    "We observe adding an endogenous feature increases the accuracy of the model to 98.15%."
   ]
  },
  {
   "cell_type": "markdown",
   "id": "4bcf26c4",
   "metadata": {},
   "source": [
    "# Import packages"
   ]
  },
  {
   "cell_type": "code",
   "execution_count": 1,
   "id": "1532fe8f",
   "metadata": {},
   "outputs": [],
   "source": [
    "from sklearn import datasets\n",
    "import matplotlib.pyplot as plt\n",
    "from lightgbm import LGBMClassifier\n",
    "from sklearn.model_selection import train_test_split\n",
    "from sklearn.metrics import accuracy_score, confusion_matrix"
   ]
  },
  {
   "cell_type": "markdown",
   "id": "2a96a1e6",
   "metadata": {},
   "source": [
    "# Extract images and labels"
   ]
  },
  {
   "cell_type": "code",
   "execution_count": 2,
   "id": "f17d845b",
   "metadata": {},
   "outputs": [],
   "source": [
    "digits = datasets.load_digits()\n",
    "images = digits.images\n",
    "targets = digits.target"
   ]
  },
  {
   "cell_type": "markdown",
   "id": "7edeb840",
   "metadata": {},
   "source": [
    "# Flatten the images to make them useable for LGBM"
   ]
  },
  {
   "cell_type": "code",
   "execution_count": 3,
   "id": "a605845f",
   "metadata": {},
   "outputs": [
    {
     "name": "stdout",
     "output_type": "stream",
     "text": [
      "initial image dimenshions are  (1797, 8, 8)\n",
      "final image dimensions are  (1797, 64)\n"
     ]
    }
   ],
   "source": [
    "print(\"initial image dimenshions are \", images.shape)\n",
    "images = images.reshape(1797, 8*8)\n",
    "print(\"final image dimensions are \", images.shape)"
   ]
  },
  {
   "cell_type": "markdown",
   "id": "cc5c0fa2",
   "metadata": {},
   "source": [
    "# Train Test split"
   ]
  },
  {
   "cell_type": "code",
   "execution_count": 4,
   "id": "458bfdb1",
   "metadata": {},
   "outputs": [],
   "source": [
    "X_train, X_test, y_train, y_test = train_test_split(images, targets, test_size = 0.3, random_state = 42)"
   ]
  },
  {
   "cell_type": "markdown",
   "id": "72642aef",
   "metadata": {},
   "source": [
    "# Model fit"
   ]
  },
  {
   "cell_type": "code",
   "execution_count": 5,
   "id": "c3350b32",
   "metadata": {},
   "outputs": [
    {
     "name": "stdout",
     "output_type": "stream",
     "text": [
      "None\n"
     ]
    }
   ],
   "source": [
    "model = LGBMClassifier(objective='multiclass')\n",
    "model.fit(X_train, y_train)\n",
    "print(model.best_iteration_)"
   ]
  },
  {
   "cell_type": "markdown",
   "id": "d6e2f655",
   "metadata": {},
   "source": [
    "# Prediction on test set"
   ]
  },
  {
   "cell_type": "markdown",
   "id": "3c9b5702",
   "metadata": {},
   "source": [
    "accuracy is calculated as: **input formula for accuracy score**"
   ]
  },
  {
   "cell_type": "code",
   "execution_count": 6,
   "id": "f3987927",
   "metadata": {},
   "outputs": [
    {
     "name": "stdout",
     "output_type": "stream",
     "text": [
      "Accuracy: 97.78%\n"
     ]
    }
   ],
   "source": [
    "y_pred = model.predict(X_test,\n",
    "                      start_iteration = 0,\n",
    "                    num_iteration = 80)\n",
    "accuracy = accuracy_score(y_test, y_pred)\n",
    "\n",
    "print(\"Accuracy: %.2f%%\" %(accuracy * 100.0))"
   ]
  },
  {
   "cell_type": "markdown",
   "id": "ad1b2120",
   "metadata": {},
   "source": [
    "confusion matrix is **mention what a confusion matrix is**"
   ]
  },
  {
   "cell_type": "code",
   "execution_count": 7,
   "id": "cc1409a8",
   "metadata": {},
   "outputs": [
    {
     "name": "stdout",
     "output_type": "stream",
     "text": [
      "Confusion Matrix:\n",
      "[[53  0  0  0  0  0  0  0  0  0]\n",
      " [ 0 49  1  0  0  0  0  0  0  0]\n",
      " [ 0  0 47  0  0  0  0  0  0  0]\n",
      " [ 0  0  0 53  0  0  0  0  1  0]\n",
      " [ 0  1  0  0 59  0  0  0  0  0]\n",
      " [ 0  0  0  0  1 64  1  0  0  0]\n",
      " [ 0  0  0  0  1  0 51  0  1  0]\n",
      " [ 0  0  0  0  0  0  0 55  0  0]\n",
      " [ 0  1  0  0  0  1  0  0 41  0]\n",
      " [ 1  0  0  0  0  0  0  1  1 56]]\n"
     ]
    }
   ],
   "source": [
    "confusion = confusion_matrix(y_test, y_pred)\n",
    "print(\"Confusion Matrix:\")\n",
    "print(confusion)"
   ]
  },
  {
   "cell_type": "markdown",
   "id": "77d43240",
   "metadata": {},
   "source": [
    "# Additional work"
   ]
  },
  {
   "cell_type": "markdown",
   "id": "c0fb882c",
   "metadata": {},
   "source": [
    "## Early stopping"
   ]
  },
  {
   "cell_type": "code",
   "execution_count": 8,
   "id": "110cb61a",
   "metadata": {},
   "outputs": [],
   "source": [
    "eval_set = [(X_train, y_train), (X_test, y_test)]\n",
    "model2 = LGBMClassifier(\n",
    "        objective = \"Multiclass\",\n",
    "        n_estimators = 500,\n",
    "        max_depth = 10)"
   ]
  },
  {
   "cell_type": "code",
   "execution_count": 9,
   "id": "d9ad1495",
   "metadata": {},
   "outputs": [
    {
     "name": "stderr",
     "output_type": "stream",
     "text": [
      "c:\\workspace\\PGBoost\\pGBoost\\lib\\site-packages\\lightgbm\\sklearn.py:726: UserWarning: 'early_stopping_rounds' argument is deprecated and will be removed in a future release of LightGBM. Pass 'early_stopping()' callback via 'callbacks' argument instead.\n",
      "  _log_warning(\"'early_stopping_rounds' argument is deprecated and will be removed in a future release of LightGBM. \"\n"
     ]
    },
    {
     "name": "stdout",
     "output_type": "stream",
     "text": [
      "[1]\ttraining's multi_logloss: 1.65033\tvalid_1's multi_logloss: 1.66917\n",
      "[2]\ttraining's multi_logloss: 1.33124\tvalid_1's multi_logloss: 1.36523\n",
      "[3]\ttraining's multi_logloss: 1.1057\tvalid_1's multi_logloss: 1.15501\n",
      "[4]\ttraining's multi_logloss: 0.930502\tvalid_1's multi_logloss: 0.999874\n",
      "[5]\ttraining's multi_logloss: 0.790853\tvalid_1's multi_logloss: 0.87438\n",
      "[6]\ttraining's multi_logloss: 0.674841\tvalid_1's multi_logloss: 0.767337\n",
      "[7]\ttraining's multi_logloss: 0.578472\tvalid_1's multi_logloss: 0.681782\n",
      "[8]\ttraining's multi_logloss: 0.49821\tvalid_1's multi_logloss: 0.605986\n",
      "[9]\ttraining's multi_logloss: 0.429049\tvalid_1's multi_logloss: 0.540851\n",
      "[10]\ttraining's multi_logloss: 0.370026\tvalid_1's multi_logloss: 0.484845\n",
      "[11]\ttraining's multi_logloss: 0.319627\tvalid_1's multi_logloss: 0.438681\n",
      "[12]\ttraining's multi_logloss: 0.276665\tvalid_1's multi_logloss: 0.400871\n",
      "[13]\ttraining's multi_logloss: 0.239497\tvalid_1's multi_logloss: 0.36404\n",
      "[14]\ttraining's multi_logloss: 0.207179\tvalid_1's multi_logloss: 0.334064\n",
      "[15]\ttraining's multi_logloss: 0.179159\tvalid_1's multi_logloss: 0.306634\n",
      "[16]\ttraining's multi_logloss: 0.154706\tvalid_1's multi_logloss: 0.282215\n",
      "[17]\ttraining's multi_logloss: 0.133576\tvalid_1's multi_logloss: 0.26158\n",
      "[18]\ttraining's multi_logloss: 0.115269\tvalid_1's multi_logloss: 0.242713\n",
      "[19]\ttraining's multi_logloss: 0.0992547\tvalid_1's multi_logloss: 0.228171\n",
      "[20]\ttraining's multi_logloss: 0.0857869\tvalid_1's multi_logloss: 0.213299\n",
      "[21]\ttraining's multi_logloss: 0.0743327\tvalid_1's multi_logloss: 0.200911\n",
      "[22]\ttraining's multi_logloss: 0.0643184\tvalid_1's multi_logloss: 0.187931\n",
      "[23]\ttraining's multi_logloss: 0.0557123\tvalid_1's multi_logloss: 0.176801\n",
      "[24]\ttraining's multi_logloss: 0.0481732\tvalid_1's multi_logloss: 0.168084\n",
      "[25]\ttraining's multi_logloss: 0.0416802\tvalid_1's multi_logloss: 0.160596\n",
      "[26]\ttraining's multi_logloss: 0.0360976\tvalid_1's multi_logloss: 0.153277\n",
      "[27]\ttraining's multi_logloss: 0.03116\tvalid_1's multi_logloss: 0.145578\n",
      "[28]\ttraining's multi_logloss: 0.0269829\tvalid_1's multi_logloss: 0.140265\n",
      "[29]\ttraining's multi_logloss: 0.0234799\tvalid_1's multi_logloss: 0.135089\n",
      "[30]\ttraining's multi_logloss: 0.0203358\tvalid_1's multi_logloss: 0.129989\n",
      "[31]\ttraining's multi_logloss: 0.017574\tvalid_1's multi_logloss: 0.124188\n",
      "[32]\ttraining's multi_logloss: 0.0152298\tvalid_1's multi_logloss: 0.119767\n",
      "[33]\ttraining's multi_logloss: 0.0132329\tvalid_1's multi_logloss: 0.116307\n",
      "[34]\ttraining's multi_logloss: 0.0114855\tvalid_1's multi_logloss: 0.113657\n",
      "[35]\ttraining's multi_logloss: 0.00997914\tvalid_1's multi_logloss: 0.110595\n",
      "[36]\ttraining's multi_logloss: 0.00866431\tvalid_1's multi_logloss: 0.108022\n",
      "[37]\ttraining's multi_logloss: 0.00753028\tvalid_1's multi_logloss: 0.104908\n",
      "[38]\ttraining's multi_logloss: 0.00649707\tvalid_1's multi_logloss: 0.102608\n",
      "[39]\ttraining's multi_logloss: 0.00565862\tvalid_1's multi_logloss: 0.100455\n",
      "[40]\ttraining's multi_logloss: 0.00489916\tvalid_1's multi_logloss: 0.0991723\n",
      "[41]\ttraining's multi_logloss: 0.00424205\tvalid_1's multi_logloss: 0.0980802\n",
      "[42]\ttraining's multi_logloss: 0.00368815\tvalid_1's multi_logloss: 0.0966338\n",
      "[43]\ttraining's multi_logloss: 0.00320433\tvalid_1's multi_logloss: 0.0942456\n",
      "[44]\ttraining's multi_logloss: 0.00279204\tvalid_1's multi_logloss: 0.0928489\n",
      "[45]\ttraining's multi_logloss: 0.00242795\tvalid_1's multi_logloss: 0.0916819\n",
      "[46]\ttraining's multi_logloss: 0.00210793\tvalid_1's multi_logloss: 0.0913805\n",
      "[47]\ttraining's multi_logloss: 0.00183002\tvalid_1's multi_logloss: 0.0902132\n",
      "[48]\ttraining's multi_logloss: 0.00158665\tvalid_1's multi_logloss: 0.0886895\n",
      "[49]\ttraining's multi_logloss: 0.00137931\tvalid_1's multi_logloss: 0.0879893\n",
      "[50]\ttraining's multi_logloss: 0.00119759\tvalid_1's multi_logloss: 0.0868865\n",
      "[51]\ttraining's multi_logloss: 0.00104043\tvalid_1's multi_logloss: 0.0868077\n",
      "[52]\ttraining's multi_logloss: 0.000907286\tvalid_1's multi_logloss: 0.0865159\n",
      "[53]\ttraining's multi_logloss: 0.000786085\tvalid_1's multi_logloss: 0.0863571\n",
      "[54]\ttraining's multi_logloss: 0.000685554\tvalid_1's multi_logloss: 0.0860445\n",
      "[55]\ttraining's multi_logloss: 0.00059758\tvalid_1's multi_logloss: 0.0865441\n",
      "[56]\ttraining's multi_logloss: 0.000519164\tvalid_1's multi_logloss: 0.0865825\n",
      "[57]\ttraining's multi_logloss: 0.000451795\tvalid_1's multi_logloss: 0.0860253\n",
      "[58]\ttraining's multi_logloss: 0.000393062\tvalid_1's multi_logloss: 0.0851308\n",
      "[59]\ttraining's multi_logloss: 0.000343018\tvalid_1's multi_logloss: 0.085744\n",
      "[60]\ttraining's multi_logloss: 0.000298133\tvalid_1's multi_logloss: 0.0850388\n",
      "[61]\ttraining's multi_logloss: 0.000260651\tvalid_1's multi_logloss: 0.0855768\n",
      "[62]\ttraining's multi_logloss: 0.000226998\tvalid_1's multi_logloss: 0.0846746\n",
      "[63]\ttraining's multi_logloss: 0.000198609\tvalid_1's multi_logloss: 0.0842773\n",
      "[64]\ttraining's multi_logloss: 0.000173823\tvalid_1's multi_logloss: 0.0841729\n",
      "[65]\ttraining's multi_logloss: 0.000151874\tvalid_1's multi_logloss: 0.084856\n",
      "[66]\ttraining's multi_logloss: 0.000132719\tvalid_1's multi_logloss: 0.0843395\n",
      "[67]\ttraining's multi_logloss: 0.00011671\tvalid_1's multi_logloss: 0.0852447\n",
      "[68]\ttraining's multi_logloss: 0.000102801\tvalid_1's multi_logloss: 0.087002\n",
      "[69]\ttraining's multi_logloss: 9.05398e-05\tvalid_1's multi_logloss: 0.0870539\n",
      "[70]\ttraining's multi_logloss: 7.94946e-05\tvalid_1's multi_logloss: 0.0872413\n",
      "[71]\ttraining's multi_logloss: 7.08299e-05\tvalid_1's multi_logloss: 0.0876468\n",
      "[72]\ttraining's multi_logloss: 6.29614e-05\tvalid_1's multi_logloss: 0.0873306\n",
      "[73]\ttraining's multi_logloss: 5.65359e-05\tvalid_1's multi_logloss: 0.0868795\n",
      "[74]\ttraining's multi_logloss: 5.09239e-05\tvalid_1's multi_logloss: 0.0865043\n"
     ]
    },
    {
     "data": {
      "text/html": [
       "<style>#sk-container-id-1 {color: black;background-color: white;}#sk-container-id-1 pre{padding: 0;}#sk-container-id-1 div.sk-toggleable {background-color: white;}#sk-container-id-1 label.sk-toggleable__label {cursor: pointer;display: block;width: 100%;margin-bottom: 0;padding: 0.3em;box-sizing: border-box;text-align: center;}#sk-container-id-1 label.sk-toggleable__label-arrow:before {content: \"▸\";float: left;margin-right: 0.25em;color: #696969;}#sk-container-id-1 label.sk-toggleable__label-arrow:hover:before {color: black;}#sk-container-id-1 div.sk-estimator:hover label.sk-toggleable__label-arrow:before {color: black;}#sk-container-id-1 div.sk-toggleable__content {max-height: 0;max-width: 0;overflow: hidden;text-align: left;background-color: #f0f8ff;}#sk-container-id-1 div.sk-toggleable__content pre {margin: 0.2em;color: black;border-radius: 0.25em;background-color: #f0f8ff;}#sk-container-id-1 input.sk-toggleable__control:checked~div.sk-toggleable__content {max-height: 200px;max-width: 100%;overflow: auto;}#sk-container-id-1 input.sk-toggleable__control:checked~label.sk-toggleable__label-arrow:before {content: \"▾\";}#sk-container-id-1 div.sk-estimator input.sk-toggleable__control:checked~label.sk-toggleable__label {background-color: #d4ebff;}#sk-container-id-1 div.sk-label input.sk-toggleable__control:checked~label.sk-toggleable__label {background-color: #d4ebff;}#sk-container-id-1 input.sk-hidden--visually {border: 0;clip: rect(1px 1px 1px 1px);clip: rect(1px, 1px, 1px, 1px);height: 1px;margin: -1px;overflow: hidden;padding: 0;position: absolute;width: 1px;}#sk-container-id-1 div.sk-estimator {font-family: monospace;background-color: #f0f8ff;border: 1px dotted black;border-radius: 0.25em;box-sizing: border-box;margin-bottom: 0.5em;}#sk-container-id-1 div.sk-estimator:hover {background-color: #d4ebff;}#sk-container-id-1 div.sk-parallel-item::after {content: \"\";width: 100%;border-bottom: 1px solid gray;flex-grow: 1;}#sk-container-id-1 div.sk-label:hover label.sk-toggleable__label {background-color: #d4ebff;}#sk-container-id-1 div.sk-serial::before {content: \"\";position: absolute;border-left: 1px solid gray;box-sizing: border-box;top: 0;bottom: 0;left: 50%;z-index: 0;}#sk-container-id-1 div.sk-serial {display: flex;flex-direction: column;align-items: center;background-color: white;padding-right: 0.2em;padding-left: 0.2em;position: relative;}#sk-container-id-1 div.sk-item {position: relative;z-index: 1;}#sk-container-id-1 div.sk-parallel {display: flex;align-items: stretch;justify-content: center;background-color: white;position: relative;}#sk-container-id-1 div.sk-item::before, #sk-container-id-1 div.sk-parallel-item::before {content: \"\";position: absolute;border-left: 1px solid gray;box-sizing: border-box;top: 0;bottom: 0;left: 50%;z-index: -1;}#sk-container-id-1 div.sk-parallel-item {display: flex;flex-direction: column;z-index: 1;position: relative;background-color: white;}#sk-container-id-1 div.sk-parallel-item:first-child::after {align-self: flex-end;width: 50%;}#sk-container-id-1 div.sk-parallel-item:last-child::after {align-self: flex-start;width: 50%;}#sk-container-id-1 div.sk-parallel-item:only-child::after {width: 0;}#sk-container-id-1 div.sk-dashed-wrapped {border: 1px dashed gray;margin: 0 0.4em 0.5em 0.4em;box-sizing: border-box;padding-bottom: 0.4em;background-color: white;}#sk-container-id-1 div.sk-label label {font-family: monospace;font-weight: bold;display: inline-block;line-height: 1.2em;}#sk-container-id-1 div.sk-label-container {text-align: center;}#sk-container-id-1 div.sk-container {/* jupyter's `normalize.less` sets `[hidden] { display: none; }` but bootstrap.min.css set `[hidden] { display: none !important; }` so we also need the `!important` here to be able to override the default hidden behavior on the sphinx rendered scikit-learn.org. See: https://github.com/scikit-learn/scikit-learn/issues/21755 */display: inline-block !important;position: relative;}#sk-container-id-1 div.sk-text-repr-fallback {display: none;}</style><div id=\"sk-container-id-1\" class=\"sk-top-container\"><div class=\"sk-text-repr-fallback\"><pre>LGBMClassifier(max_depth=10, n_estimators=500, objective=&#x27;Multiclass&#x27;)</pre><b>In a Jupyter environment, please rerun this cell to show the HTML representation or trust the notebook. <br />On GitHub, the HTML representation is unable to render, please try loading this page with nbviewer.org.</b></div><div class=\"sk-container\" hidden><div class=\"sk-item\"><div class=\"sk-estimator sk-toggleable\"><input class=\"sk-toggleable__control sk-hidden--visually\" id=\"sk-estimator-id-1\" type=\"checkbox\" checked><label for=\"sk-estimator-id-1\" class=\"sk-toggleable__label sk-toggleable__label-arrow\">LGBMClassifier</label><div class=\"sk-toggleable__content\"><pre>LGBMClassifier(max_depth=10, n_estimators=500, objective=&#x27;Multiclass&#x27;)</pre></div></div></div></div></div>"
      ],
      "text/plain": [
       "LGBMClassifier(max_depth=10, n_estimators=500, objective='Multiclass')"
      ]
     },
     "execution_count": 9,
     "metadata": {},
     "output_type": "execute_result"
    }
   ],
   "source": [
    "model2.fit(X_train, y_train,\n",
    "          early_stopping_rounds = 10,\n",
    "          eval_metric = [\"logloss\"],\n",
    "          eval_set = eval_set)"
   ]
  },
  {
   "cell_type": "code",
   "execution_count": 10,
   "id": "61c1862c",
   "metadata": {},
   "outputs": [
    {
     "name": "stdout",
     "output_type": "stream",
     "text": [
      "64\n"
     ]
    }
   ],
   "source": [
    "print(model2.best_iteration_)"
   ]
  },
  {
   "cell_type": "code",
   "execution_count": 11,
   "id": "a500bfb9",
   "metadata": {},
   "outputs": [
    {
     "name": "stdout",
     "output_type": "stream",
     "text": [
      "Accuracy: 97.78%\n"
     ]
    }
   ],
   "source": [
    "y_pred = model2.predict(X_test,\n",
    "                       start_iteration = 0,\n",
    "                       num_iteration = model2.best_iteration_)\n",
    "accuracy = accuracy_score(y_test, y_pred)\n",
    "print(\"Accuracy: %.2f%%\" %(accuracy * 100))"
   ]
  },
  {
   "cell_type": "markdown",
   "id": "d66632c4",
   "metadata": {},
   "source": [
    "## Adding a Endogenous feature using horizontal Sobel filter"
   ]
  },
  {
   "cell_type": "code",
   "execution_count": 12,
   "id": "ea05bc13",
   "metadata": {},
   "outputs": [],
   "source": [
    "from sklearn.feature_extraction import image\n",
    "from skimage import filters\n",
    "import numpy as np"
   ]
  },
  {
   "cell_type": "code",
   "execution_count": 13,
   "id": "5b76e5f7",
   "metadata": {},
   "outputs": [],
   "source": [
    "digits = datasets.load_digits()\n",
    "images = digits.images\n",
    "targets = digits.target"
   ]
  },
  {
   "cell_type": "code",
   "execution_count": 14,
   "id": "8e55fee4",
   "metadata": {},
   "outputs": [],
   "source": [
    "patches_sobel_h = [filters.sobel_h(img).reshape(8*8) for img in images]"
   ]
  },
  {
   "cell_type": "code",
   "execution_count": 15,
   "id": "5aafe076",
   "metadata": {},
   "outputs": [],
   "source": [
    "images = images.reshape(1797, 8*8)"
   ]
  },
  {
   "cell_type": "code",
   "execution_count": 16,
   "id": "1bb0eb3a",
   "metadata": {},
   "outputs": [
    {
     "name": "stdout",
     "output_type": "stream",
     "text": [
      "(1797, 64)\n",
      "(1797, 128)\n"
     ]
    }
   ],
   "source": [
    "print(images.shape)\n",
    "images = np.array([np.concatenate([img, patches_sobel_h[idx]]) for idx, img in enumerate(images)])\n",
    "print(images.shape)"
   ]
  },
  {
   "cell_type": "code",
   "execution_count": 17,
   "id": "f4fc621b",
   "metadata": {},
   "outputs": [],
   "source": [
    "X_train, X_test, y_train, y_test = train_test_split(images, targets, test_size = 0.3, random_state = 42)\n",
    "eval_set = [(X_train, y_train), (X_test, y_test)]"
   ]
  },
  {
   "cell_type": "code",
   "execution_count": 18,
   "id": "6bef9877",
   "metadata": {},
   "outputs": [],
   "source": [
    "model3 = LGBMClassifier(\n",
    "        objective = \"multiclass\",\n",
    "        n_estimators = 500,\n",
    "        max_depth = 10)"
   ]
  },
  {
   "cell_type": "code",
   "execution_count": 19,
   "id": "b2ff34d8",
   "metadata": {},
   "outputs": [
    {
     "name": "stderr",
     "output_type": "stream",
     "text": [
      "c:\\workspace\\PGBoost\\pGBoost\\lib\\site-packages\\lightgbm\\sklearn.py:726: UserWarning: 'early_stopping_rounds' argument is deprecated and will be removed in a future release of LightGBM. Pass 'early_stopping()' callback via 'callbacks' argument instead.\n",
      "  _log_warning(\"'early_stopping_rounds' argument is deprecated and will be removed in a future release of LightGBM. \"\n"
     ]
    },
    {
     "name": "stdout",
     "output_type": "stream",
     "text": [
      "[1]\ttraining's multi_logloss: 1.62017\tvalid_1's multi_logloss: 1.66044\n",
      "[2]\ttraining's multi_logloss: 1.28108\tvalid_1's multi_logloss: 1.33729\n",
      "[3]\ttraining's multi_logloss: 1.05234\tvalid_1's multi_logloss: 1.12397\n",
      "[4]\ttraining's multi_logloss: 0.878601\tvalid_1's multi_logloss: 0.960065\n",
      "[5]\ttraining's multi_logloss: 0.741819\tvalid_1's multi_logloss: 0.833048\n",
      "[6]\ttraining's multi_logloss: 0.629578\tvalid_1's multi_logloss: 0.727562\n",
      "[7]\ttraining's multi_logloss: 0.535723\tvalid_1's multi_logloss: 0.639983\n",
      "[8]\ttraining's multi_logloss: 0.456998\tvalid_1's multi_logloss: 0.565885\n",
      "[9]\ttraining's multi_logloss: 0.3899\tvalid_1's multi_logloss: 0.503595\n",
      "[10]\ttraining's multi_logloss: 0.33345\tvalid_1's multi_logloss: 0.449359\n",
      "[11]\ttraining's multi_logloss: 0.285108\tvalid_1's multi_logloss: 0.404238\n",
      "[12]\ttraining's multi_logloss: 0.244205\tvalid_1's multi_logloss: 0.365063\n",
      "[13]\ttraining's multi_logloss: 0.209513\tvalid_1's multi_logloss: 0.33176\n",
      "[14]\ttraining's multi_logloss: 0.17942\tvalid_1's multi_logloss: 0.302846\n",
      "[15]\ttraining's multi_logloss: 0.153118\tvalid_1's multi_logloss: 0.274571\n",
      "[16]\ttraining's multi_logloss: 0.131051\tvalid_1's multi_logloss: 0.2526\n",
      "[17]\ttraining's multi_logloss: 0.11253\tvalid_1's multi_logloss: 0.230837\n",
      "[18]\ttraining's multi_logloss: 0.0964271\tvalid_1's multi_logloss: 0.213391\n",
      "[19]\ttraining's multi_logloss: 0.082736\tvalid_1's multi_logloss: 0.197397\n",
      "[20]\ttraining's multi_logloss: 0.0711676\tvalid_1's multi_logloss: 0.182648\n",
      "[21]\ttraining's multi_logloss: 0.0610352\tvalid_1's multi_logloss: 0.170059\n",
      "[22]\ttraining's multi_logloss: 0.0523382\tvalid_1's multi_logloss: 0.158339\n",
      "[23]\ttraining's multi_logloss: 0.0448945\tvalid_1's multi_logloss: 0.148768\n",
      "[24]\ttraining's multi_logloss: 0.0385318\tvalid_1's multi_logloss: 0.140507\n",
      "[25]\ttraining's multi_logloss: 0.033063\tvalid_1's multi_logloss: 0.134697\n",
      "[26]\ttraining's multi_logloss: 0.0284058\tvalid_1's multi_logloss: 0.128775\n",
      "[27]\ttraining's multi_logloss: 0.0243827\tvalid_1's multi_logloss: 0.12305\n",
      "[28]\ttraining's multi_logloss: 0.0209684\tvalid_1's multi_logloss: 0.118474\n",
      "[29]\ttraining's multi_logloss: 0.0180782\tvalid_1's multi_logloss: 0.113332\n",
      "[30]\ttraining's multi_logloss: 0.015561\tvalid_1's multi_logloss: 0.108767\n",
      "[31]\ttraining's multi_logloss: 0.0134139\tvalid_1's multi_logloss: 0.104891\n",
      "[32]\ttraining's multi_logloss: 0.0115549\tvalid_1's multi_logloss: 0.101283\n",
      "[33]\ttraining's multi_logloss: 0.0100094\tvalid_1's multi_logloss: 0.098394\n",
      "[34]\ttraining's multi_logloss: 0.00858383\tvalid_1's multi_logloss: 0.0954516\n",
      "[35]\ttraining's multi_logloss: 0.00739461\tvalid_1's multi_logloss: 0.0926726\n",
      "[36]\ttraining's multi_logloss: 0.00634152\tvalid_1's multi_logloss: 0.0895392\n",
      "[37]\ttraining's multi_logloss: 0.00545882\tvalid_1's multi_logloss: 0.0871642\n",
      "[38]\ttraining's multi_logloss: 0.00468526\tvalid_1's multi_logloss: 0.0850102\n",
      "[39]\ttraining's multi_logloss: 0.00402999\tvalid_1's multi_logloss: 0.0828101\n",
      "[40]\ttraining's multi_logloss: 0.00345778\tvalid_1's multi_logloss: 0.0812449\n",
      "[41]\ttraining's multi_logloss: 0.00297854\tvalid_1's multi_logloss: 0.0795713\n",
      "[42]\ttraining's multi_logloss: 0.00256083\tvalid_1's multi_logloss: 0.079104\n",
      "[43]\ttraining's multi_logloss: 0.00220323\tvalid_1's multi_logloss: 0.0775186\n",
      "[44]\ttraining's multi_logloss: 0.00190247\tvalid_1's multi_logloss: 0.0765894\n",
      "[45]\ttraining's multi_logloss: 0.00163634\tvalid_1's multi_logloss: 0.0760601\n",
      "[46]\ttraining's multi_logloss: 0.00141226\tvalid_1's multi_logloss: 0.0749854\n",
      "[47]\ttraining's multi_logloss: 0.00121269\tvalid_1's multi_logloss: 0.0738874\n",
      "[48]\ttraining's multi_logloss: 0.0010458\tvalid_1's multi_logloss: 0.0737532\n",
      "[49]\ttraining's multi_logloss: 0.000896927\tvalid_1's multi_logloss: 0.0726582\n",
      "[50]\ttraining's multi_logloss: 0.000770411\tvalid_1's multi_logloss: 0.071916\n",
      "[51]\ttraining's multi_logloss: 0.000661289\tvalid_1's multi_logloss: 0.0702505\n",
      "[52]\ttraining's multi_logloss: 0.000568272\tvalid_1's multi_logloss: 0.0689358\n",
      "[53]\ttraining's multi_logloss: 0.000491131\tvalid_1's multi_logloss: 0.0692074\n",
      "[54]\ttraining's multi_logloss: 0.000422565\tvalid_1's multi_logloss: 0.0678907\n",
      "[55]\ttraining's multi_logloss: 0.000365762\tvalid_1's multi_logloss: 0.0677047\n",
      "[56]\ttraining's multi_logloss: 0.000317419\tvalid_1's multi_logloss: 0.0684935\n",
      "[57]\ttraining's multi_logloss: 0.000272548\tvalid_1's multi_logloss: 0.0677018\n",
      "[58]\ttraining's multi_logloss: 0.000236435\tvalid_1's multi_logloss: 0.0668125\n",
      "[59]\ttraining's multi_logloss: 0.000203017\tvalid_1's multi_logloss: 0.066893\n",
      "[60]\ttraining's multi_logloss: 0.000174937\tvalid_1's multi_logloss: 0.0660343\n",
      "[61]\ttraining's multi_logloss: 0.000151432\tvalid_1's multi_logloss: 0.0661119\n",
      "[62]\ttraining's multi_logloss: 0.000131382\tvalid_1's multi_logloss: 0.0660741\n",
      "[63]\ttraining's multi_logloss: 0.000114189\tvalid_1's multi_logloss: 0.0657626\n",
      "[64]\ttraining's multi_logloss: 9.93485e-05\tvalid_1's multi_logloss: 0.0648734\n",
      "[65]\ttraining's multi_logloss: 8.64917e-05\tvalid_1's multi_logloss: 0.0648369\n",
      "[66]\ttraining's multi_logloss: 7.56113e-05\tvalid_1's multi_logloss: 0.0645366\n",
      "[67]\ttraining's multi_logloss: 6.65376e-05\tvalid_1's multi_logloss: 0.0641979\n",
      "[68]\ttraining's multi_logloss: 5.87463e-05\tvalid_1's multi_logloss: 0.0638786\n",
      "[69]\ttraining's multi_logloss: 5.16679e-05\tvalid_1's multi_logloss: 0.0644128\n",
      "[70]\ttraining's multi_logloss: 4.57457e-05\tvalid_1's multi_logloss: 0.0649379\n",
      "[71]\ttraining's multi_logloss: 4.08586e-05\tvalid_1's multi_logloss: 0.0640987\n",
      "[72]\ttraining's multi_logloss: 3.65963e-05\tvalid_1's multi_logloss: 0.0639993\n",
      "[73]\ttraining's multi_logloss: 3.29923e-05\tvalid_1's multi_logloss: 0.0643136\n",
      "[74]\ttraining's multi_logloss: 2.99929e-05\tvalid_1's multi_logloss: 0.064132\n",
      "[75]\ttraining's multi_logloss: 2.72339e-05\tvalid_1's multi_logloss: 0.0637826\n",
      "[76]\ttraining's multi_logloss: 2.508e-05\tvalid_1's multi_logloss: 0.0636954\n",
      "[77]\ttraining's multi_logloss: 2.31078e-05\tvalid_1's multi_logloss: 0.0632467\n",
      "[78]\ttraining's multi_logloss: 2.13908e-05\tvalid_1's multi_logloss: 0.0631218\n",
      "[79]\ttraining's multi_logloss: 1.98584e-05\tvalid_1's multi_logloss: 0.0632184\n",
      "[80]\ttraining's multi_logloss: 1.86308e-05\tvalid_1's multi_logloss: 0.0635035\n",
      "[81]\ttraining's multi_logloss: 1.75701e-05\tvalid_1's multi_logloss: 0.0633549\n",
      "[82]\ttraining's multi_logloss: 1.65512e-05\tvalid_1's multi_logloss: 0.0635467\n",
      "[83]\ttraining's multi_logloss: 1.57174e-05\tvalid_1's multi_logloss: 0.0636565\n",
      "[84]\ttraining's multi_logloss: 1.49302e-05\tvalid_1's multi_logloss: 0.0635986\n",
      "[85]\ttraining's multi_logloss: 1.42882e-05\tvalid_1's multi_logloss: 0.0639121\n",
      "[86]\ttraining's multi_logloss: 1.36881e-05\tvalid_1's multi_logloss: 0.064026\n",
      "[87]\ttraining's multi_logloss: 1.31593e-05\tvalid_1's multi_logloss: 0.0641767\n",
      "[88]\ttraining's multi_logloss: 1.27731e-05\tvalid_1's multi_logloss: 0.0638963\n"
     ]
    },
    {
     "data": {
      "text/html": [
       "<style>#sk-container-id-2 {color: black;background-color: white;}#sk-container-id-2 pre{padding: 0;}#sk-container-id-2 div.sk-toggleable {background-color: white;}#sk-container-id-2 label.sk-toggleable__label {cursor: pointer;display: block;width: 100%;margin-bottom: 0;padding: 0.3em;box-sizing: border-box;text-align: center;}#sk-container-id-2 label.sk-toggleable__label-arrow:before {content: \"▸\";float: left;margin-right: 0.25em;color: #696969;}#sk-container-id-2 label.sk-toggleable__label-arrow:hover:before {color: black;}#sk-container-id-2 div.sk-estimator:hover label.sk-toggleable__label-arrow:before {color: black;}#sk-container-id-2 div.sk-toggleable__content {max-height: 0;max-width: 0;overflow: hidden;text-align: left;background-color: #f0f8ff;}#sk-container-id-2 div.sk-toggleable__content pre {margin: 0.2em;color: black;border-radius: 0.25em;background-color: #f0f8ff;}#sk-container-id-2 input.sk-toggleable__control:checked~div.sk-toggleable__content {max-height: 200px;max-width: 100%;overflow: auto;}#sk-container-id-2 input.sk-toggleable__control:checked~label.sk-toggleable__label-arrow:before {content: \"▾\";}#sk-container-id-2 div.sk-estimator input.sk-toggleable__control:checked~label.sk-toggleable__label {background-color: #d4ebff;}#sk-container-id-2 div.sk-label input.sk-toggleable__control:checked~label.sk-toggleable__label {background-color: #d4ebff;}#sk-container-id-2 input.sk-hidden--visually {border: 0;clip: rect(1px 1px 1px 1px);clip: rect(1px, 1px, 1px, 1px);height: 1px;margin: -1px;overflow: hidden;padding: 0;position: absolute;width: 1px;}#sk-container-id-2 div.sk-estimator {font-family: monospace;background-color: #f0f8ff;border: 1px dotted black;border-radius: 0.25em;box-sizing: border-box;margin-bottom: 0.5em;}#sk-container-id-2 div.sk-estimator:hover {background-color: #d4ebff;}#sk-container-id-2 div.sk-parallel-item::after {content: \"\";width: 100%;border-bottom: 1px solid gray;flex-grow: 1;}#sk-container-id-2 div.sk-label:hover label.sk-toggleable__label {background-color: #d4ebff;}#sk-container-id-2 div.sk-serial::before {content: \"\";position: absolute;border-left: 1px solid gray;box-sizing: border-box;top: 0;bottom: 0;left: 50%;z-index: 0;}#sk-container-id-2 div.sk-serial {display: flex;flex-direction: column;align-items: center;background-color: white;padding-right: 0.2em;padding-left: 0.2em;position: relative;}#sk-container-id-2 div.sk-item {position: relative;z-index: 1;}#sk-container-id-2 div.sk-parallel {display: flex;align-items: stretch;justify-content: center;background-color: white;position: relative;}#sk-container-id-2 div.sk-item::before, #sk-container-id-2 div.sk-parallel-item::before {content: \"\";position: absolute;border-left: 1px solid gray;box-sizing: border-box;top: 0;bottom: 0;left: 50%;z-index: -1;}#sk-container-id-2 div.sk-parallel-item {display: flex;flex-direction: column;z-index: 1;position: relative;background-color: white;}#sk-container-id-2 div.sk-parallel-item:first-child::after {align-self: flex-end;width: 50%;}#sk-container-id-2 div.sk-parallel-item:last-child::after {align-self: flex-start;width: 50%;}#sk-container-id-2 div.sk-parallel-item:only-child::after {width: 0;}#sk-container-id-2 div.sk-dashed-wrapped {border: 1px dashed gray;margin: 0 0.4em 0.5em 0.4em;box-sizing: border-box;padding-bottom: 0.4em;background-color: white;}#sk-container-id-2 div.sk-label label {font-family: monospace;font-weight: bold;display: inline-block;line-height: 1.2em;}#sk-container-id-2 div.sk-label-container {text-align: center;}#sk-container-id-2 div.sk-container {/* jupyter's `normalize.less` sets `[hidden] { display: none; }` but bootstrap.min.css set `[hidden] { display: none !important; }` so we also need the `!important` here to be able to override the default hidden behavior on the sphinx rendered scikit-learn.org. See: https://github.com/scikit-learn/scikit-learn/issues/21755 */display: inline-block !important;position: relative;}#sk-container-id-2 div.sk-text-repr-fallback {display: none;}</style><div id=\"sk-container-id-2\" class=\"sk-top-container\"><div class=\"sk-text-repr-fallback\"><pre>LGBMClassifier(max_depth=10, n_estimators=500, objective=&#x27;multiclass&#x27;)</pre><b>In a Jupyter environment, please rerun this cell to show the HTML representation or trust the notebook. <br />On GitHub, the HTML representation is unable to render, please try loading this page with nbviewer.org.</b></div><div class=\"sk-container\" hidden><div class=\"sk-item\"><div class=\"sk-estimator sk-toggleable\"><input class=\"sk-toggleable__control sk-hidden--visually\" id=\"sk-estimator-id-2\" type=\"checkbox\" checked><label for=\"sk-estimator-id-2\" class=\"sk-toggleable__label sk-toggleable__label-arrow\">LGBMClassifier</label><div class=\"sk-toggleable__content\"><pre>LGBMClassifier(max_depth=10, n_estimators=500, objective=&#x27;multiclass&#x27;)</pre></div></div></div></div></div>"
      ],
      "text/plain": [
       "LGBMClassifier(max_depth=10, n_estimators=500, objective='multiclass')"
      ]
     },
     "execution_count": 19,
     "metadata": {},
     "output_type": "execute_result"
    }
   ],
   "source": [
    "model3.fit(X_train, y_train,\n",
    "          early_stopping_rounds = 10,\n",
    "          eval_metric = ['logloss'],\n",
    "          eval_set = eval_set)"
   ]
  },
  {
   "cell_type": "code",
   "execution_count": 20,
   "id": "db7547b1",
   "metadata": {},
   "outputs": [
    {
     "name": "stdout",
     "output_type": "stream",
     "text": [
      "78\n"
     ]
    }
   ],
   "source": [
    "print(model3.best_iteration_)"
   ]
  },
  {
   "cell_type": "code",
   "execution_count": 21,
   "id": "407131b7",
   "metadata": {},
   "outputs": [],
   "source": [
    "y_pred = model3.predict(X_test,\n",
    "                       start_iteration = 0,\n",
    "                       num_iteration = model.best_iteration_)"
   ]
  },
  {
   "cell_type": "code",
   "execution_count": 22,
   "id": "38fbf1e4",
   "metadata": {},
   "outputs": [
    {
     "name": "stdout",
     "output_type": "stream",
     "text": [
      "Accuracy: 98.15%\n"
     ]
    }
   ],
   "source": [
    "accuracy = accuracy_score(y_test, y_pred)\n",
    "\n",
    "print(\"Accuracy: %.2f%%\" % (accuracy * 100))"
   ]
  },
  {
   "cell_type": "code",
   "execution_count": 23,
   "id": "efdea600",
   "metadata": {},
   "outputs": [
    {
     "name": "stdout",
     "output_type": "stream",
     "text": [
      "Confusion Matrix\n",
      "[[53  0  0  0  0  0  0  0  0  0]\n",
      " [ 0 49  1  0  0  0  0  0  0  0]\n",
      " [ 0  0 47  0  0  0  0  0  0  0]\n",
      " [ 0  0  2 51  0  0  0  0  1  0]\n",
      " [ 0  1  0  0 59  0  0  0  0  0]\n",
      " [ 0  0  0  1  1 64  0  0  0  0]\n",
      " [ 0  0  0  0  1  0 52  0  0  0]\n",
      " [ 0  0  0  0  0  0  0 55  0  0]\n",
      " [ 0  0  0  0  0  0  0  0 43  0]\n",
      " [ 0  0  0  1  0  0  0  0  1 57]]\n"
     ]
    }
   ],
   "source": [
    "confusion = confusion_matrix(y_test, y_pred)\n",
    "print(\"Confusion Matrix\")\n",
    "print(confusion)"
   ]
  },
  {
   "cell_type": "markdown",
   "id": "c1dee877",
   "metadata": {},
   "source": [
    "# Conclusion"
   ]
  },
  {
   "cell_type": "markdown",
   "id": "600c0985",
   "metadata": {},
   "source": [
    "We observe how we can imporve the accuracy of our model by constructing endogenous features from with the available features. In this example we are able to improve the accuracy by 0.3%. "
   ]
  },
  {
   "cell_type": "markdown",
   "id": "64aa4a11",
   "metadata": {},
   "source": [
    "# References:"
   ]
  },
  {
   "cell_type": "markdown",
   "id": "baf07a76",
   "metadata": {},
   "source": [
    "https://towardsdatascience.com/hyperparameter-tuning-to-reduce-overfitting-lightgbm-5eb81a0b464e"
   ]
  },
  {
   "cell_type": "markdown",
   "id": "c5d261c0",
   "metadata": {},
   "source": [
    "Practical Gradient Boosting: A deep dive into Gradient Boosting in Python, Guillaume Saupin, 2022"
   ]
  }
 ],
 "metadata": {
  "kernelspec": {
   "display_name": "pGBoost",
   "language": "python",
   "name": "pgboost"
  },
  "language_info": {
   "codemirror_mode": {
    "name": "ipython",
    "version": 3
   },
   "file_extension": ".py",
   "mimetype": "text/x-python",
   "name": "python",
   "nbconvert_exporter": "python",
   "pygments_lexer": "ipython3",
   "version": "3.9.2"
  }
 },
 "nbformat": 4,
 "nbformat_minor": 5
}
