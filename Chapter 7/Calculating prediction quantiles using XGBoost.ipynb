{
 "cells": [
  {
   "cell_type": "markdown",
   "id": "5c8c0bd4",
   "metadata": {},
   "source": [
    "# Introduction"
   ]
  },
  {
   "cell_type": "markdown",
   "id": "5b8cac86",
   "metadata": {},
   "source": [
    "Often times, a user may find it more insightful to have confidence intervals together with a point prediction.\n",
    "\n",
    "Confidence intervals provide a proxy to the range of deviation in the point prediction.\n",
    "\n",
    "A wider confience interval may signify that the prediction is not very reliable. "
   ]
  }
 ],
 "metadata": {
  "kernelspec": {
   "display_name": "pGBoost",
   "language": "python",
   "name": "pgboost"
  },
  "language_info": {
   "codemirror_mode": {
    "name": "ipython",
    "version": 3
   },
   "file_extension": ".py",
   "mimetype": "text/x-python",
   "name": "python",
   "nbconvert_exporter": "python",
   "pygments_lexer": "ipython3",
   "version": "3.9.2"
  }
 },
 "nbformat": 4,
 "nbformat_minor": 5
}
