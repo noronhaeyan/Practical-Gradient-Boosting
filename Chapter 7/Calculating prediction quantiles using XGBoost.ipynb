{
 "cells": [
  {
   "cell_type": "markdown",
   "id": "bb9b6282",
   "metadata": {},
   "source": [
    "# Introduction"
   ]
  },
  {
   "cell_type": "markdown",
   "id": "c20e91ba",
   "metadata": {},
   "source": [
    "Often times, a user may find it more insightful to have confidence intervals together with a point prediction.\n",
    "\n",
    "Confidence intervals provide a proxy for the range of deviation in the point prediction.\n",
    "\n",
    "A wider confidence interval may signify that the prediction is not very reliable. \n",
    "\n",
    "In this notebook, we estimate the confidence interval of a prediction using a quantile objective function.\n",
    "\n",
    "A quantile objective function can also be used to generate a distribution of the prediction. This may be a source of additional features for downstream tasks.  \n",
    "\n",
    "log cosh function is used as a smooth approximation to a quantile function. Mathematically, the objective function for the $\\alpha$ quantile is given by   \n",
    "\n",
    "$$\n",
    "\\begin{cases}\n",
    "  (1-\\alpha) \\log ( \\cosh(x)) & \\text{:} & x < 0\\\\    \n",
    "  \\alpha \\log ( \\cosh(x)) & \\text{:} & x \\geq 0    \n",
    "\\end{cases}\n",
    "$$   \n",
    "\n",
    "A case study involving the california housing data is also provided."
   ]
  },
  {
   "cell_type": "markdown",
   "id": "0365a86d",
   "metadata": {},
   "source": [
    "# Importing packages"
   ]
  },
  {
   "cell_type": "code",
   "execution_count": 1,
   "id": "93da203f",
   "metadata": {},
   "outputs": [],
   "source": [
    "import pandas as pd\n",
    "import numpy as np\n",
    "from xgboost.sklearn import XGBRegressor\n",
    "from sklearn.model_selection import ShuffleSplit\n",
    "import matplotlib.pyplot as plt"
   ]
  },
  {
   "cell_type": "markdown",
   "id": "dc560420",
   "metadata": {},
   "source": [
    "# log cosh quantile function"
   ]
  },
  {
   "cell_type": "markdown",
   "id": "94305e9b",
   "metadata": {},
   "source": [
    "The problem with using np.cosh function is that there are overflow problems.\n",
    "\n",
    "We replace the np.cosh definition with an alternate easier to compute definition"
   ]
  },
  {
   "cell_type": "code",
   "execution_count": 2,
   "id": "b7fe4ca1",
   "metadata": {},
   "outputs": [],
   "source": [
    "def cosh(x):\n",
    "    return np.cosh(np.minimum(x, 700 * np.ones(x.shape)))"
   ]
  },
  {
   "cell_type": "markdown",
   "id": "73a8144f",
   "metadata": {},
   "source": [
    "The modified cosh function was still giving me an overflow problem. After two hours of debugging I realized that I reversed the order of y_true and y_pred in the _log_cosh_quantile function"
   ]
  },
  {
   "cell_type": "code",
   "execution_count": 3,
   "id": "5a0d9e6b",
   "metadata": {},
   "outputs": [],
   "source": [
    "def log_cosh_quantile(alpha):\n",
    "    def _log_cosh_quantile(y_true, y_pred):\n",
    "        err = y_pred - y_true\n",
    "        \n",
    "        grad = np.where(err < 0, alpha * np.tanh(err), (1-alpha) * np.tanh(err))\n",
    "        \n",
    "        hess = np.where(err < 0, alpha * sechSq(err), (1-alpha) * sechSq(err))\n",
    "\n",
    "        return grad, hess\n",
    "    \n",
    "    def sechSq(x):\n",
    "        \n",
    "        sech = 1 / cosh(x)\n",
    "        \n",
    "        return sech ** 2\n",
    "    \n",
    "    return _log_cosh_quantile"
   ]
  },
  {
   "cell_type": "markdown",
   "id": "5835795e",
   "metadata": {},
   "source": [
    "# XGBoost model"
   ]
  },
  {
   "cell_type": "markdown",
   "id": "8d56d37d",
   "metadata": {},
   "source": [
    "A custom objective function can be passed to the XGBoost model as follows"
   ]
  },
  {
   "cell_type": "code",
   "execution_count": 4,
   "id": "4bb4b3d5",
   "metadata": {},
   "outputs": [],
   "source": [
    "alpha = 0.95\n",
    "clf = XGBRegressor(objective = log_cosh_quantile(1-alpha),\n",
    "                  n_entimators = 125,\n",
    "                  max_depth = 5,\n",
    "                  n_jobs = 6,\n",
    "                  learning_rate = 0.05)"
   ]
  },
  {
   "cell_type": "markdown",
   "id": "e87ba2b6",
   "metadata": {},
   "source": [
    "# Data loading"
   ]
  },
  {
   "cell_type": "code",
   "execution_count": 5,
   "id": "d26cf08f",
   "metadata": {},
   "outputs": [],
   "source": [
    "from sklearn.datasets import fetch_california_housing\n",
    "housing = fetch_california_housing()"
   ]
  },
  {
   "cell_type": "code",
   "execution_count": 6,
   "id": "2d96d2bf",
   "metadata": {},
   "outputs": [],
   "source": [
    "X = pd.DataFrame(housing.data, columns = housing.feature_names)\n",
    "y = pd.DataFrame(housing.target, columns = housing.target_names)"
   ]
  },
  {
   "cell_type": "markdown",
   "id": "5dff449f",
   "metadata": {},
   "source": [
    "# Train test split"
   ]
  },
  {
   "cell_type": "code",
   "execution_count": 7,
   "id": "f07b24ca",
   "metadata": {},
   "outputs": [],
   "source": [
    "splitter = ShuffleSplit(n_splits = 1, test_size = 0.25, random_state = 1)"
   ]
  },
  {
   "cell_type": "code",
   "execution_count": 8,
   "id": "633bd880",
   "metadata": {},
   "outputs": [],
   "source": [
    "for train_index, test_index in splitter.split(X):\n",
    "    X_train = X.iloc[train_index]\n",
    "    y_train = y.iloc[train_index]\n",
    "    X_test = X.iloc[test_index]\n",
    "    y_test = y.iloc[test_index]"
   ]
  },
  {
   "cell_type": "markdown",
   "id": "adc384ab",
   "metadata": {},
   "source": [
    "# Training and prediction"
   ]
  },
  {
   "cell_type": "markdown",
   "id": "7f4844cd",
   "metadata": {},
   "source": [
    "Calculating the upper quantile"
   ]
  },
  {
   "cell_type": "code",
   "execution_count": 9,
   "id": "754e4a3e",
   "metadata": {},
   "outputs": [],
   "source": [
    "alpha = 0.95\n",
    "\n",
    "clf = XGBRegressor(objective = log_cosh_quantile(alpha),\n",
    "                  n_estimators = 200,\n",
    "                  max_depth = 3,\n",
    "                  n_jobs = 4,\n",
    "                  learning_rate = 0.05)"
   ]
  },
  {
   "cell_type": "code",
   "execution_count": 10,
   "id": "6b22337f",
   "metadata": {},
   "outputs": [
    {
     "data": {
      "text/html": [
       "<style>#sk-container-id-1 {color: black;background-color: white;}#sk-container-id-1 pre{padding: 0;}#sk-container-id-1 div.sk-toggleable {background-color: white;}#sk-container-id-1 label.sk-toggleable__label {cursor: pointer;display: block;width: 100%;margin-bottom: 0;padding: 0.3em;box-sizing: border-box;text-align: center;}#sk-container-id-1 label.sk-toggleable__label-arrow:before {content: \"▸\";float: left;margin-right: 0.25em;color: #696969;}#sk-container-id-1 label.sk-toggleable__label-arrow:hover:before {color: black;}#sk-container-id-1 div.sk-estimator:hover label.sk-toggleable__label-arrow:before {color: black;}#sk-container-id-1 div.sk-toggleable__content {max-height: 0;max-width: 0;overflow: hidden;text-align: left;background-color: #f0f8ff;}#sk-container-id-1 div.sk-toggleable__content pre {margin: 0.2em;color: black;border-radius: 0.25em;background-color: #f0f8ff;}#sk-container-id-1 input.sk-toggleable__control:checked~div.sk-toggleable__content {max-height: 200px;max-width: 100%;overflow: auto;}#sk-container-id-1 input.sk-toggleable__control:checked~label.sk-toggleable__label-arrow:before {content: \"▾\";}#sk-container-id-1 div.sk-estimator input.sk-toggleable__control:checked~label.sk-toggleable__label {background-color: #d4ebff;}#sk-container-id-1 div.sk-label input.sk-toggleable__control:checked~label.sk-toggleable__label {background-color: #d4ebff;}#sk-container-id-1 input.sk-hidden--visually {border: 0;clip: rect(1px 1px 1px 1px);clip: rect(1px, 1px, 1px, 1px);height: 1px;margin: -1px;overflow: hidden;padding: 0;position: absolute;width: 1px;}#sk-container-id-1 div.sk-estimator {font-family: monospace;background-color: #f0f8ff;border: 1px dotted black;border-radius: 0.25em;box-sizing: border-box;margin-bottom: 0.5em;}#sk-container-id-1 div.sk-estimator:hover {background-color: #d4ebff;}#sk-container-id-1 div.sk-parallel-item::after {content: \"\";width: 100%;border-bottom: 1px solid gray;flex-grow: 1;}#sk-container-id-1 div.sk-label:hover label.sk-toggleable__label {background-color: #d4ebff;}#sk-container-id-1 div.sk-serial::before {content: \"\";position: absolute;border-left: 1px solid gray;box-sizing: border-box;top: 0;bottom: 0;left: 50%;z-index: 0;}#sk-container-id-1 div.sk-serial {display: flex;flex-direction: column;align-items: center;background-color: white;padding-right: 0.2em;padding-left: 0.2em;position: relative;}#sk-container-id-1 div.sk-item {position: relative;z-index: 1;}#sk-container-id-1 div.sk-parallel {display: flex;align-items: stretch;justify-content: center;background-color: white;position: relative;}#sk-container-id-1 div.sk-item::before, #sk-container-id-1 div.sk-parallel-item::before {content: \"\";position: absolute;border-left: 1px solid gray;box-sizing: border-box;top: 0;bottom: 0;left: 50%;z-index: -1;}#sk-container-id-1 div.sk-parallel-item {display: flex;flex-direction: column;z-index: 1;position: relative;background-color: white;}#sk-container-id-1 div.sk-parallel-item:first-child::after {align-self: flex-end;width: 50%;}#sk-container-id-1 div.sk-parallel-item:last-child::after {align-self: flex-start;width: 50%;}#sk-container-id-1 div.sk-parallel-item:only-child::after {width: 0;}#sk-container-id-1 div.sk-dashed-wrapped {border: 1px dashed gray;margin: 0 0.4em 0.5em 0.4em;box-sizing: border-box;padding-bottom: 0.4em;background-color: white;}#sk-container-id-1 div.sk-label label {font-family: monospace;font-weight: bold;display: inline-block;line-height: 1.2em;}#sk-container-id-1 div.sk-label-container {text-align: center;}#sk-container-id-1 div.sk-container {/* jupyter's `normalize.less` sets `[hidden] { display: none; }` but bootstrap.min.css set `[hidden] { display: none !important; }` so we also need the `!important` here to be able to override the default hidden behavior on the sphinx rendered scikit-learn.org. See: https://github.com/scikit-learn/scikit-learn/issues/21755 */display: inline-block !important;position: relative;}#sk-container-id-1 div.sk-text-repr-fallback {display: none;}</style><div id=\"sk-container-id-1\" class=\"sk-top-container\"><div class=\"sk-text-repr-fallback\"><pre>XGBRegressor(base_score=None, booster=None, callbacks=None,\n",
       "             colsample_bylevel=None, colsample_bynode=None,\n",
       "             colsample_bytree=None, early_stopping_rounds=None,\n",
       "             enable_categorical=False, eval_metric=None, feature_types=None,\n",
       "             gamma=None, gpu_id=None, grow_policy=None, importance_type=None,\n",
       "             interaction_constraints=None, learning_rate=0.05, max_bin=None,\n",
       "             max_cat_threshold=None, max_cat_to_onehot=None,\n",
       "             max_delta_step=None, max_depth=3, max_leaves=None,\n",
       "             min_child_weight=None, missing=nan, monotone_constraints=None,\n",
       "             n_estimators=200, n_jobs=4, num_parallel_tree=None,\n",
       "             objective=&lt;function log_cosh_quantile.&lt;locals&gt;._log_cosh_quantile at 0x0000029E23CA6820&gt;,\n",
       "             predictor=None, ...)</pre><b>In a Jupyter environment, please rerun this cell to show the HTML representation or trust the notebook. <br />On GitHub, the HTML representation is unable to render, please try loading this page with nbviewer.org.</b></div><div class=\"sk-container\" hidden><div class=\"sk-item\"><div class=\"sk-estimator sk-toggleable\"><input class=\"sk-toggleable__control sk-hidden--visually\" id=\"sk-estimator-id-1\" type=\"checkbox\" checked><label for=\"sk-estimator-id-1\" class=\"sk-toggleable__label sk-toggleable__label-arrow\">XGBRegressor</label><div class=\"sk-toggleable__content\"><pre>XGBRegressor(base_score=None, booster=None, callbacks=None,\n",
       "             colsample_bylevel=None, colsample_bynode=None,\n",
       "             colsample_bytree=None, early_stopping_rounds=None,\n",
       "             enable_categorical=False, eval_metric=None, feature_types=None,\n",
       "             gamma=None, gpu_id=None, grow_policy=None, importance_type=None,\n",
       "             interaction_constraints=None, learning_rate=0.05, max_bin=None,\n",
       "             max_cat_threshold=None, max_cat_to_onehot=None,\n",
       "             max_delta_step=None, max_depth=3, max_leaves=None,\n",
       "             min_child_weight=None, missing=nan, monotone_constraints=None,\n",
       "             n_estimators=200, n_jobs=4, num_parallel_tree=None,\n",
       "             objective=&lt;function log_cosh_quantile.&lt;locals&gt;._log_cosh_quantile at 0x0000029E23CA6820&gt;,\n",
       "             predictor=None, ...)</pre></div></div></div></div></div>"
      ],
      "text/plain": [
       "XGBRegressor(base_score=None, booster=None, callbacks=None,\n",
       "             colsample_bylevel=None, colsample_bynode=None,\n",
       "             colsample_bytree=None, early_stopping_rounds=None,\n",
       "             enable_categorical=False, eval_metric=None, feature_types=None,\n",
       "             gamma=None, gpu_id=None, grow_policy=None, importance_type=None,\n",
       "             interaction_constraints=None, learning_rate=0.05, max_bin=None,\n",
       "             max_cat_threshold=None, max_cat_to_onehot=None,\n",
       "             max_delta_step=None, max_depth=3, max_leaves=None,\n",
       "             min_child_weight=None, missing=nan, monotone_constraints=None,\n",
       "             n_estimators=200, n_jobs=4, num_parallel_tree=None,\n",
       "             objective=<function log_cosh_quantile.<locals>._log_cosh_quantile at 0x0000029E23CA6820>,\n",
       "             predictor=None, ...)"
      ]
     },
     "execution_count": 10,
     "metadata": {},
     "output_type": "execute_result"
    }
   ],
   "source": [
    "clf.fit(X_train, y_train)"
   ]
  },
  {
   "cell_type": "code",
   "execution_count": 11,
   "id": "7d3aef4f",
   "metadata": {},
   "outputs": [],
   "source": [
    "y_upper_smooth = clf.predict(X_test)"
   ]
  },
  {
   "cell_type": "code",
   "execution_count": 12,
   "id": "eb9e430d",
   "metadata": {},
   "outputs": [
    {
     "name": "stdout",
     "output_type": "stream",
     "text": [
      "[4.6515775 1.1099726 3.0944874 2.6100302 3.4845743 4.978835  3.3166888\n",
      " 2.206825  1.8518007 2.4240296]\n",
      "[3.55, 0.707, 2.294, 1.125, 2.254, 2.63, 2.268, 1.662, 1.18, 1.563]\n"
     ]
    }
   ],
   "source": [
    "print(y_upper_smooth[:10])\n",
    "print(y_test['MedHouseVal'].to_list()[:10])"
   ]
  },
  {
   "cell_type": "markdown",
   "id": "63354685",
   "metadata": {},
   "source": [
    "Calculating the lower quantile"
   ]
  },
  {
   "cell_type": "code",
   "execution_count": 13,
   "id": "fc4956ab",
   "metadata": {},
   "outputs": [],
   "source": [
    "clf = XGBRegressor(objective = log_cosh_quantile(1-alpha),\n",
    "                  n_estimators = 200,\n",
    "                  max_depth = 3,\n",
    "                  n_jobs = 4,\n",
    "                  learning_rate = 0.05)"
   ]
  },
  {
   "cell_type": "code",
   "execution_count": 14,
   "id": "ba28bb61",
   "metadata": {},
   "outputs": [
    {
     "data": {
      "text/html": [
       "<style>#sk-container-id-2 {color: black;background-color: white;}#sk-container-id-2 pre{padding: 0;}#sk-container-id-2 div.sk-toggleable {background-color: white;}#sk-container-id-2 label.sk-toggleable__label {cursor: pointer;display: block;width: 100%;margin-bottom: 0;padding: 0.3em;box-sizing: border-box;text-align: center;}#sk-container-id-2 label.sk-toggleable__label-arrow:before {content: \"▸\";float: left;margin-right: 0.25em;color: #696969;}#sk-container-id-2 label.sk-toggleable__label-arrow:hover:before {color: black;}#sk-container-id-2 div.sk-estimator:hover label.sk-toggleable__label-arrow:before {color: black;}#sk-container-id-2 div.sk-toggleable__content {max-height: 0;max-width: 0;overflow: hidden;text-align: left;background-color: #f0f8ff;}#sk-container-id-2 div.sk-toggleable__content pre {margin: 0.2em;color: black;border-radius: 0.25em;background-color: #f0f8ff;}#sk-container-id-2 input.sk-toggleable__control:checked~div.sk-toggleable__content {max-height: 200px;max-width: 100%;overflow: auto;}#sk-container-id-2 input.sk-toggleable__control:checked~label.sk-toggleable__label-arrow:before {content: \"▾\";}#sk-container-id-2 div.sk-estimator input.sk-toggleable__control:checked~label.sk-toggleable__label {background-color: #d4ebff;}#sk-container-id-2 div.sk-label input.sk-toggleable__control:checked~label.sk-toggleable__label {background-color: #d4ebff;}#sk-container-id-2 input.sk-hidden--visually {border: 0;clip: rect(1px 1px 1px 1px);clip: rect(1px, 1px, 1px, 1px);height: 1px;margin: -1px;overflow: hidden;padding: 0;position: absolute;width: 1px;}#sk-container-id-2 div.sk-estimator {font-family: monospace;background-color: #f0f8ff;border: 1px dotted black;border-radius: 0.25em;box-sizing: border-box;margin-bottom: 0.5em;}#sk-container-id-2 div.sk-estimator:hover {background-color: #d4ebff;}#sk-container-id-2 div.sk-parallel-item::after {content: \"\";width: 100%;border-bottom: 1px solid gray;flex-grow: 1;}#sk-container-id-2 div.sk-label:hover label.sk-toggleable__label {background-color: #d4ebff;}#sk-container-id-2 div.sk-serial::before {content: \"\";position: absolute;border-left: 1px solid gray;box-sizing: border-box;top: 0;bottom: 0;left: 50%;z-index: 0;}#sk-container-id-2 div.sk-serial {display: flex;flex-direction: column;align-items: center;background-color: white;padding-right: 0.2em;padding-left: 0.2em;position: relative;}#sk-container-id-2 div.sk-item {position: relative;z-index: 1;}#sk-container-id-2 div.sk-parallel {display: flex;align-items: stretch;justify-content: center;background-color: white;position: relative;}#sk-container-id-2 div.sk-item::before, #sk-container-id-2 div.sk-parallel-item::before {content: \"\";position: absolute;border-left: 1px solid gray;box-sizing: border-box;top: 0;bottom: 0;left: 50%;z-index: -1;}#sk-container-id-2 div.sk-parallel-item {display: flex;flex-direction: column;z-index: 1;position: relative;background-color: white;}#sk-container-id-2 div.sk-parallel-item:first-child::after {align-self: flex-end;width: 50%;}#sk-container-id-2 div.sk-parallel-item:last-child::after {align-self: flex-start;width: 50%;}#sk-container-id-2 div.sk-parallel-item:only-child::after {width: 0;}#sk-container-id-2 div.sk-dashed-wrapped {border: 1px dashed gray;margin: 0 0.4em 0.5em 0.4em;box-sizing: border-box;padding-bottom: 0.4em;background-color: white;}#sk-container-id-2 div.sk-label label {font-family: monospace;font-weight: bold;display: inline-block;line-height: 1.2em;}#sk-container-id-2 div.sk-label-container {text-align: center;}#sk-container-id-2 div.sk-container {/* jupyter's `normalize.less` sets `[hidden] { display: none; }` but bootstrap.min.css set `[hidden] { display: none !important; }` so we also need the `!important` here to be able to override the default hidden behavior on the sphinx rendered scikit-learn.org. See: https://github.com/scikit-learn/scikit-learn/issues/21755 */display: inline-block !important;position: relative;}#sk-container-id-2 div.sk-text-repr-fallback {display: none;}</style><div id=\"sk-container-id-2\" class=\"sk-top-container\"><div class=\"sk-text-repr-fallback\"><pre>XGBRegressor(base_score=None, booster=None, callbacks=None,\n",
       "             colsample_bylevel=None, colsample_bynode=None,\n",
       "             colsample_bytree=None, early_stopping_rounds=None,\n",
       "             enable_categorical=False, eval_metric=None, feature_types=None,\n",
       "             gamma=None, gpu_id=None, grow_policy=None, importance_type=None,\n",
       "             interaction_constraints=None, learning_rate=0.05, max_bin=None,\n",
       "             max_cat_threshold=None, max_cat_to_onehot=None,\n",
       "             max_delta_step=None, max_depth=3, max_leaves=None,\n",
       "             min_child_weight=None, missing=nan, monotone_constraints=None,\n",
       "             n_estimators=200, n_jobs=4, num_parallel_tree=None,\n",
       "             objective=&lt;function log_cosh_quantile.&lt;locals&gt;._log_cosh_quantile at 0x0000029E23CD5EE0&gt;,\n",
       "             predictor=None, ...)</pre><b>In a Jupyter environment, please rerun this cell to show the HTML representation or trust the notebook. <br />On GitHub, the HTML representation is unable to render, please try loading this page with nbviewer.org.</b></div><div class=\"sk-container\" hidden><div class=\"sk-item\"><div class=\"sk-estimator sk-toggleable\"><input class=\"sk-toggleable__control sk-hidden--visually\" id=\"sk-estimator-id-2\" type=\"checkbox\" checked><label for=\"sk-estimator-id-2\" class=\"sk-toggleable__label sk-toggleable__label-arrow\">XGBRegressor</label><div class=\"sk-toggleable__content\"><pre>XGBRegressor(base_score=None, booster=None, callbacks=None,\n",
       "             colsample_bylevel=None, colsample_bynode=None,\n",
       "             colsample_bytree=None, early_stopping_rounds=None,\n",
       "             enable_categorical=False, eval_metric=None, feature_types=None,\n",
       "             gamma=None, gpu_id=None, grow_policy=None, importance_type=None,\n",
       "             interaction_constraints=None, learning_rate=0.05, max_bin=None,\n",
       "             max_cat_threshold=None, max_cat_to_onehot=None,\n",
       "             max_delta_step=None, max_depth=3, max_leaves=None,\n",
       "             min_child_weight=None, missing=nan, monotone_constraints=None,\n",
       "             n_estimators=200, n_jobs=4, num_parallel_tree=None,\n",
       "             objective=&lt;function log_cosh_quantile.&lt;locals&gt;._log_cosh_quantile at 0x0000029E23CD5EE0&gt;,\n",
       "             predictor=None, ...)</pre></div></div></div></div></div>"
      ],
      "text/plain": [
       "XGBRegressor(base_score=None, booster=None, callbacks=None,\n",
       "             colsample_bylevel=None, colsample_bynode=None,\n",
       "             colsample_bytree=None, early_stopping_rounds=None,\n",
       "             enable_categorical=False, eval_metric=None, feature_types=None,\n",
       "             gamma=None, gpu_id=None, grow_policy=None, importance_type=None,\n",
       "             interaction_constraints=None, learning_rate=0.05, max_bin=None,\n",
       "             max_cat_threshold=None, max_cat_to_onehot=None,\n",
       "             max_delta_step=None, max_depth=3, max_leaves=None,\n",
       "             min_child_weight=None, missing=nan, monotone_constraints=None,\n",
       "             n_estimators=200, n_jobs=4, num_parallel_tree=None,\n",
       "             objective=<function log_cosh_quantile.<locals>._log_cosh_quantile at 0x0000029E23CD5EE0>,\n",
       "             predictor=None, ...)"
      ]
     },
     "execution_count": 14,
     "metadata": {},
     "output_type": "execute_result"
    }
   ],
   "source": [
    "clf.fit(X_train, y_train)"
   ]
  },
  {
   "cell_type": "code",
   "execution_count": 15,
   "id": "7fc2c5ae",
   "metadata": {},
   "outputs": [],
   "source": [
    "y_lower_smooth = clf.predict(X_test)"
   ]
  },
  {
   "cell_type": "code",
   "execution_count": 16,
   "id": "8b03997a",
   "metadata": {},
   "outputs": [
    {
     "name": "stdout",
     "output_type": "stream",
     "text": [
      "[2.1034167 0.5202606 2.0245087 0.8863784 2.1141813 2.451071  1.5790187\n",
      " 1.2442524 1.0692693 1.2456285]\n",
      "[3.55, 0.707, 2.294, 1.125, 2.254, 2.63, 2.268, 1.662, 1.18, 1.563]\n"
     ]
    }
   ],
   "source": [
    "print(y_lower_smooth[:10])\n",
    "print(y_test['MedHouseVal'].to_list()[:10])"
   ]
  },
  {
   "cell_type": "markdown",
   "id": "4520bfcb",
   "metadata": {},
   "source": [
    "Calculating the median"
   ]
  },
  {
   "cell_type": "code",
   "execution_count": 17,
   "id": "de4bd9f2",
   "metadata": {},
   "outputs": [],
   "source": [
    "clf = XGBRegressor(objective = log_cosh_quantile(0.5),\n",
    "                  n_estimators = 200,\n",
    "                  max_depth = 3,\n",
    "                  n_jobs = 4,\n",
    "                  learning_rate = 0.05)"
   ]
  },
  {
   "cell_type": "code",
   "execution_count": 18,
   "id": "7a41e81b",
   "metadata": {},
   "outputs": [
    {
     "data": {
      "text/html": [
       "<style>#sk-container-id-3 {color: black;background-color: white;}#sk-container-id-3 pre{padding: 0;}#sk-container-id-3 div.sk-toggleable {background-color: white;}#sk-container-id-3 label.sk-toggleable__label {cursor: pointer;display: block;width: 100%;margin-bottom: 0;padding: 0.3em;box-sizing: border-box;text-align: center;}#sk-container-id-3 label.sk-toggleable__label-arrow:before {content: \"▸\";float: left;margin-right: 0.25em;color: #696969;}#sk-container-id-3 label.sk-toggleable__label-arrow:hover:before {color: black;}#sk-container-id-3 div.sk-estimator:hover label.sk-toggleable__label-arrow:before {color: black;}#sk-container-id-3 div.sk-toggleable__content {max-height: 0;max-width: 0;overflow: hidden;text-align: left;background-color: #f0f8ff;}#sk-container-id-3 div.sk-toggleable__content pre {margin: 0.2em;color: black;border-radius: 0.25em;background-color: #f0f8ff;}#sk-container-id-3 input.sk-toggleable__control:checked~div.sk-toggleable__content {max-height: 200px;max-width: 100%;overflow: auto;}#sk-container-id-3 input.sk-toggleable__control:checked~label.sk-toggleable__label-arrow:before {content: \"▾\";}#sk-container-id-3 div.sk-estimator input.sk-toggleable__control:checked~label.sk-toggleable__label {background-color: #d4ebff;}#sk-container-id-3 div.sk-label input.sk-toggleable__control:checked~label.sk-toggleable__label {background-color: #d4ebff;}#sk-container-id-3 input.sk-hidden--visually {border: 0;clip: rect(1px 1px 1px 1px);clip: rect(1px, 1px, 1px, 1px);height: 1px;margin: -1px;overflow: hidden;padding: 0;position: absolute;width: 1px;}#sk-container-id-3 div.sk-estimator {font-family: monospace;background-color: #f0f8ff;border: 1px dotted black;border-radius: 0.25em;box-sizing: border-box;margin-bottom: 0.5em;}#sk-container-id-3 div.sk-estimator:hover {background-color: #d4ebff;}#sk-container-id-3 div.sk-parallel-item::after {content: \"\";width: 100%;border-bottom: 1px solid gray;flex-grow: 1;}#sk-container-id-3 div.sk-label:hover label.sk-toggleable__label {background-color: #d4ebff;}#sk-container-id-3 div.sk-serial::before {content: \"\";position: absolute;border-left: 1px solid gray;box-sizing: border-box;top: 0;bottom: 0;left: 50%;z-index: 0;}#sk-container-id-3 div.sk-serial {display: flex;flex-direction: column;align-items: center;background-color: white;padding-right: 0.2em;padding-left: 0.2em;position: relative;}#sk-container-id-3 div.sk-item {position: relative;z-index: 1;}#sk-container-id-3 div.sk-parallel {display: flex;align-items: stretch;justify-content: center;background-color: white;position: relative;}#sk-container-id-3 div.sk-item::before, #sk-container-id-3 div.sk-parallel-item::before {content: \"\";position: absolute;border-left: 1px solid gray;box-sizing: border-box;top: 0;bottom: 0;left: 50%;z-index: -1;}#sk-container-id-3 div.sk-parallel-item {display: flex;flex-direction: column;z-index: 1;position: relative;background-color: white;}#sk-container-id-3 div.sk-parallel-item:first-child::after {align-self: flex-end;width: 50%;}#sk-container-id-3 div.sk-parallel-item:last-child::after {align-self: flex-start;width: 50%;}#sk-container-id-3 div.sk-parallel-item:only-child::after {width: 0;}#sk-container-id-3 div.sk-dashed-wrapped {border: 1px dashed gray;margin: 0 0.4em 0.5em 0.4em;box-sizing: border-box;padding-bottom: 0.4em;background-color: white;}#sk-container-id-3 div.sk-label label {font-family: monospace;font-weight: bold;display: inline-block;line-height: 1.2em;}#sk-container-id-3 div.sk-label-container {text-align: center;}#sk-container-id-3 div.sk-container {/* jupyter's `normalize.less` sets `[hidden] { display: none; }` but bootstrap.min.css set `[hidden] { display: none !important; }` so we also need the `!important` here to be able to override the default hidden behavior on the sphinx rendered scikit-learn.org. See: https://github.com/scikit-learn/scikit-learn/issues/21755 */display: inline-block !important;position: relative;}#sk-container-id-3 div.sk-text-repr-fallback {display: none;}</style><div id=\"sk-container-id-3\" class=\"sk-top-container\"><div class=\"sk-text-repr-fallback\"><pre>XGBRegressor(base_score=None, booster=None, callbacks=None,\n",
       "             colsample_bylevel=None, colsample_bynode=None,\n",
       "             colsample_bytree=None, early_stopping_rounds=None,\n",
       "             enable_categorical=False, eval_metric=None, feature_types=None,\n",
       "             gamma=None, gpu_id=None, grow_policy=None, importance_type=None,\n",
       "             interaction_constraints=None, learning_rate=0.05, max_bin=None,\n",
       "             max_cat_threshold=None, max_cat_to_onehot=None,\n",
       "             max_delta_step=None, max_depth=3, max_leaves=None,\n",
       "             min_child_weight=None, missing=nan, monotone_constraints=None,\n",
       "             n_estimators=200, n_jobs=4, num_parallel_tree=None,\n",
       "             objective=&lt;function log_cosh_quantile.&lt;locals&gt;._log_cosh_quantile at 0x0000029E23D07820&gt;,\n",
       "             predictor=None, ...)</pre><b>In a Jupyter environment, please rerun this cell to show the HTML representation or trust the notebook. <br />On GitHub, the HTML representation is unable to render, please try loading this page with nbviewer.org.</b></div><div class=\"sk-container\" hidden><div class=\"sk-item\"><div class=\"sk-estimator sk-toggleable\"><input class=\"sk-toggleable__control sk-hidden--visually\" id=\"sk-estimator-id-3\" type=\"checkbox\" checked><label for=\"sk-estimator-id-3\" class=\"sk-toggleable__label sk-toggleable__label-arrow\">XGBRegressor</label><div class=\"sk-toggleable__content\"><pre>XGBRegressor(base_score=None, booster=None, callbacks=None,\n",
       "             colsample_bylevel=None, colsample_bynode=None,\n",
       "             colsample_bytree=None, early_stopping_rounds=None,\n",
       "             enable_categorical=False, eval_metric=None, feature_types=None,\n",
       "             gamma=None, gpu_id=None, grow_policy=None, importance_type=None,\n",
       "             interaction_constraints=None, learning_rate=0.05, max_bin=None,\n",
       "             max_cat_threshold=None, max_cat_to_onehot=None,\n",
       "             max_delta_step=None, max_depth=3, max_leaves=None,\n",
       "             min_child_weight=None, missing=nan, monotone_constraints=None,\n",
       "             n_estimators=200, n_jobs=4, num_parallel_tree=None,\n",
       "             objective=&lt;function log_cosh_quantile.&lt;locals&gt;._log_cosh_quantile at 0x0000029E23D07820&gt;,\n",
       "             predictor=None, ...)</pre></div></div></div></div></div>"
      ],
      "text/plain": [
       "XGBRegressor(base_score=None, booster=None, callbacks=None,\n",
       "             colsample_bylevel=None, colsample_bynode=None,\n",
       "             colsample_bytree=None, early_stopping_rounds=None,\n",
       "             enable_categorical=False, eval_metric=None, feature_types=None,\n",
       "             gamma=None, gpu_id=None, grow_policy=None, importance_type=None,\n",
       "             interaction_constraints=None, learning_rate=0.05, max_bin=None,\n",
       "             max_cat_threshold=None, max_cat_to_onehot=None,\n",
       "             max_delta_step=None, max_depth=3, max_leaves=None,\n",
       "             min_child_weight=None, missing=nan, monotone_constraints=None,\n",
       "             n_estimators=200, n_jobs=4, num_parallel_tree=None,\n",
       "             objective=<function log_cosh_quantile.<locals>._log_cosh_quantile at 0x0000029E23D07820>,\n",
       "             predictor=None, ...)"
      ]
     },
     "execution_count": 18,
     "metadata": {},
     "output_type": "execute_result"
    }
   ],
   "source": [
    "clf.fit(X_train, y_train)"
   ]
  },
  {
   "cell_type": "code",
   "execution_count": 19,
   "id": "a08ef900",
   "metadata": {},
   "outputs": [],
   "source": [
    "y_median = clf.predict(X_test)"
   ]
  },
  {
   "cell_type": "code",
   "execution_count": 20,
   "id": "5ea49e62",
   "metadata": {},
   "outputs": [
    {
     "name": "stdout",
     "output_type": "stream",
     "text": [
      "[3.2429554 0.757352  2.5868504 1.3783662 2.8943105 3.8976893 2.5790272\n",
      " 1.5965589 1.3985851 1.6484576]\n",
      "[3.55, 0.707, 2.294, 1.125, 2.254, 2.63, 2.268, 1.662, 1.18, 1.563]\n"
     ]
    }
   ],
   "source": [
    "print(y_median[:10])\n",
    "print(y_test['MedHouseVal'].to_list()[:10])"
   ]
  },
  {
   "cell_type": "markdown",
   "id": "59a735df",
   "metadata": {},
   "source": [
    "# Results"
   ]
  },
  {
   "cell_type": "code",
   "execution_count": 21,
   "id": "6fdfa210",
   "metadata": {},
   "outputs": [
    {
     "data": {
      "text/html": [
       "<div>\n",
       "<style scoped>\n",
       "    .dataframe tbody tr th:only-of-type {\n",
       "        vertical-align: middle;\n",
       "    }\n",
       "\n",
       "    .dataframe tbody tr th {\n",
       "        vertical-align: top;\n",
       "    }\n",
       "\n",
       "    .dataframe thead th {\n",
       "        text-align: right;\n",
       "    }\n",
       "</style>\n",
       "<table border=\"1\" class=\"dataframe\">\n",
       "  <thead>\n",
       "    <tr style=\"text-align: right;\">\n",
       "      <th></th>\n",
       "      <th>TrueMedHouseVal</th>\n",
       "      <th>MedianPrediction</th>\n",
       "      <th>0.95quantile</th>\n",
       "      <th>0.05quantile</th>\n",
       "    </tr>\n",
       "  </thead>\n",
       "  <tbody>\n",
       "    <tr>\n",
       "      <th>0</th>\n",
       "      <td>3.550</td>\n",
       "      <td>3.242955</td>\n",
       "      <td>4.651577</td>\n",
       "      <td>2.103417</td>\n",
       "    </tr>\n",
       "    <tr>\n",
       "      <th>1</th>\n",
       "      <td>0.707</td>\n",
       "      <td>0.757352</td>\n",
       "      <td>1.109973</td>\n",
       "      <td>0.520261</td>\n",
       "    </tr>\n",
       "    <tr>\n",
       "      <th>2</th>\n",
       "      <td>2.294</td>\n",
       "      <td>2.586850</td>\n",
       "      <td>3.094487</td>\n",
       "      <td>2.024509</td>\n",
       "    </tr>\n",
       "    <tr>\n",
       "      <th>3</th>\n",
       "      <td>1.125</td>\n",
       "      <td>1.378366</td>\n",
       "      <td>2.610030</td>\n",
       "      <td>0.886378</td>\n",
       "    </tr>\n",
       "    <tr>\n",
       "      <th>4</th>\n",
       "      <td>2.254</td>\n",
       "      <td>2.894310</td>\n",
       "      <td>3.484574</td>\n",
       "      <td>2.114181</td>\n",
       "    </tr>\n",
       "  </tbody>\n",
       "</table>\n",
       "</div>"
      ],
      "text/plain": [
       "   TrueMedHouseVal  MedianPrediction  0.95quantile  0.05quantile\n",
       "0            3.550          3.242955      4.651577      2.103417\n",
       "1            0.707          0.757352      1.109973      0.520261\n",
       "2            2.294          2.586850      3.094487      2.024509\n",
       "3            1.125          1.378366      2.610030      0.886378\n",
       "4            2.254          2.894310      3.484574      2.114181"
      ]
     },
     "execution_count": 21,
     "metadata": {},
     "output_type": "execute_result"
    }
   ],
   "source": [
    "output = {}\n",
    "output['TrueMedHouseVal'] = y_test['MedHouseVal'].to_list()\n",
    "output['MedianPrediction'] = y_median\n",
    "output['0.95quantile'] = y_upper_smooth\n",
    "output['0.05quantile'] = y_lower_smooth\n",
    "result = pd.DataFrame(output)\n",
    "result.head()"
   ]
  },
  {
   "cell_type": "markdown",
   "id": "02826691",
   "metadata": {},
   "source": [
    "# Additional Work"
   ]
  },
  {
   "cell_type": "markdown",
   "id": "69721b5b",
   "metadata": {},
   "source": [
    "We try the definition of grad and hessian for log cosh function as is given in the book, page 152."
   ]
  },
  {
   "cell_type": "code",
   "execution_count": 22,
   "id": "6c94454d",
   "metadata": {},
   "outputs": [],
   "source": [
    "def log_cosh_quantile(alpha):\n",
    "    def _log_cosh_quantile(y_true, y_pred):\n",
    "        err = y_pred - y_true\n",
    "        err = np.where(err < 0, alpha * err, (1-alpha) * err)\n",
    "        grad = np.tanh(err)\n",
    "        hess = 1 / cosh(err) ** 2\n",
    "        \n",
    "        return grad, hess\n",
    "    \n",
    "    return _log_cosh_quantile"
   ]
  },
  {
   "cell_type": "code",
   "execution_count": 23,
   "id": "61075b6a",
   "metadata": {},
   "outputs": [],
   "source": [
    "alpha = 0.95\n",
    "\n",
    "clf = XGBRegressor(objective = log_cosh_quantile(alpha),\n",
    "                  n_estimators = 200,\n",
    "                  max_depth = 3,\n",
    "                  n_jobs = 4,\n",
    "                  learning_rate = 0.05)\n",
    "\n",
    "clf.fit(X_train, y_train)\n",
    "\n",
    "y_upper_smooth = clf.predict(X_test)"
   ]
  },
  {
   "cell_type": "code",
   "execution_count": 24,
   "id": "d855bb99",
   "metadata": {},
   "outputs": [],
   "source": [
    "clf = XGBRegressor(objective = log_cosh_quantile(1-alpha),\n",
    "                  n_estimators = 200,\n",
    "                  max_depth = 3,\n",
    "                  n_jobs = 4,\n",
    "                  learning_rate = 0.05)\n",
    "\n",
    "clf.fit(X_train, y_train)\n",
    "\n",
    "y_lower_smooth = clf.predict(X_test)"
   ]
  },
  {
   "cell_type": "code",
   "execution_count": 25,
   "id": "c30e2f62",
   "metadata": {},
   "outputs": [],
   "source": [
    "clf = XGBRegressor(objective = log_cosh_quantile(0.5),\n",
    "                  n_estimators = 200,\n",
    "                  max_depth = 3,\n",
    "                  n_jobs = 4,\n",
    "                  learning_rate = 0.05)\n",
    "\n",
    "clf.fit(X_train, y_train)\n",
    "\n",
    "y_median = clf.predict(X_test)"
   ]
  },
  {
   "cell_type": "code",
   "execution_count": 26,
   "id": "3f394894",
   "metadata": {},
   "outputs": [
    {
     "data": {
      "text/html": [
       "<div>\n",
       "<style scoped>\n",
       "    .dataframe tbody tr th:only-of-type {\n",
       "        vertical-align: middle;\n",
       "    }\n",
       "\n",
       "    .dataframe tbody tr th {\n",
       "        vertical-align: top;\n",
       "    }\n",
       "\n",
       "    .dataframe thead th {\n",
       "        text-align: right;\n",
       "    }\n",
       "</style>\n",
       "<table border=\"1\" class=\"dataframe\">\n",
       "  <thead>\n",
       "    <tr style=\"text-align: right;\">\n",
       "      <th></th>\n",
       "      <th>TrueMedHouseVal</th>\n",
       "      <th>MedianPrediction</th>\n",
       "      <th>0.95quantile</th>\n",
       "      <th>0.05quantile</th>\n",
       "      <th>MedianPrediction2</th>\n",
       "      <th>0.95quantile2</th>\n",
       "      <th>0.05quantile2</th>\n",
       "    </tr>\n",
       "  </thead>\n",
       "  <tbody>\n",
       "    <tr>\n",
       "      <th>0</th>\n",
       "      <td>3.550</td>\n",
       "      <td>3.242955</td>\n",
       "      <td>4.651577</td>\n",
       "      <td>2.103417</td>\n",
       "      <td>3.169382</td>\n",
       "      <td>4.050434</td>\n",
       "      <td>1.352701</td>\n",
       "    </tr>\n",
       "    <tr>\n",
       "      <th>1</th>\n",
       "      <td>0.707</td>\n",
       "      <td>0.757352</td>\n",
       "      <td>1.109973</td>\n",
       "      <td>0.520261</td>\n",
       "      <td>0.800896</td>\n",
       "      <td>1.864278</td>\n",
       "      <td>0.609783</td>\n",
       "    </tr>\n",
       "    <tr>\n",
       "      <th>2</th>\n",
       "      <td>2.294</td>\n",
       "      <td>2.586850</td>\n",
       "      <td>3.094487</td>\n",
       "      <td>2.024509</td>\n",
       "      <td>2.416822</td>\n",
       "      <td>2.724847</td>\n",
       "      <td>1.014560</td>\n",
       "    </tr>\n",
       "    <tr>\n",
       "      <th>3</th>\n",
       "      <td>1.125</td>\n",
       "      <td>1.378366</td>\n",
       "      <td>2.610030</td>\n",
       "      <td>0.886378</td>\n",
       "      <td>1.437977</td>\n",
       "      <td>2.357894</td>\n",
       "      <td>0.647745</td>\n",
       "    </tr>\n",
       "    <tr>\n",
       "      <th>4</th>\n",
       "      <td>2.254</td>\n",
       "      <td>2.894310</td>\n",
       "      <td>3.484574</td>\n",
       "      <td>2.114181</td>\n",
       "      <td>2.932159</td>\n",
       "      <td>3.368453</td>\n",
       "      <td>1.517753</td>\n",
       "    </tr>\n",
       "  </tbody>\n",
       "</table>\n",
       "</div>"
      ],
      "text/plain": [
       "   TrueMedHouseVal  MedianPrediction  0.95quantile  0.05quantile  \\\n",
       "0            3.550          3.242955      4.651577      2.103417   \n",
       "1            0.707          0.757352      1.109973      0.520261   \n",
       "2            2.294          2.586850      3.094487      2.024509   \n",
       "3            1.125          1.378366      2.610030      0.886378   \n",
       "4            2.254          2.894310      3.484574      2.114181   \n",
       "\n",
       "   MedianPrediction2  0.95quantile2  0.05quantile2  \n",
       "0           3.169382       4.050434       1.352701  \n",
       "1           0.800896       1.864278       0.609783  \n",
       "2           2.416822       2.724847       1.014560  \n",
       "3           1.437977       2.357894       0.647745  \n",
       "4           2.932159       3.368453       1.517753  "
      ]
     },
     "execution_count": 26,
     "metadata": {},
     "output_type": "execute_result"
    }
   ],
   "source": [
    "output = {}\n",
    "output['MedianPrediction2'] = y_median\n",
    "output['0.95quantile2'] = y_upper_smooth\n",
    "output['0.05quantile2'] = y_lower_smooth\n",
    "result2 = pd.concat([result, pd.DataFrame(output)], axis = 1)\n",
    "result2.head()"
   ]
  },
  {
   "cell_type": "markdown",
   "id": "1d766cfc",
   "metadata": {},
   "source": [
    "# Conclusion"
   ]
  },
  {
   "cell_type": "markdown",
   "id": "26414569",
   "metadata": {},
   "source": [
    "The gradient and hession expression used in the book and at the begining of this notebook provide similar results. \n",
    "\n",
    "This may be because they are only off by a constant factor.\n",
    "\n",
    "The log cosh objective function does provide a upper and lower value to the prediction. This is verified by performing a case study on the california housing prices.\n",
    "\n",
    "An interesting application of quantile prediction is in the area of time-series. Will will explore this in future notebooks. "
   ]
  }
 ],
 "metadata": {
  "kernelspec": {
   "display_name": "pGBoost",
   "language": "python",
   "name": "pgboost"
  },
  "language_info": {
   "codemirror_mode": {
    "name": "ipython",
    "version": 3
   },
   "file_extension": ".py",
   "mimetype": "text/x-python",
   "name": "python",
   "nbconvert_exporter": "python",
   "pygments_lexer": "ipython3",
   "version": "3.9.2"
  }
 },
 "nbformat": 4,
 "nbformat_minor": 5
}
