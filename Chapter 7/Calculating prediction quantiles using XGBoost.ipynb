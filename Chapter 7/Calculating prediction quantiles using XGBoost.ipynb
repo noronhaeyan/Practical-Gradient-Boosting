{
 "cells": [
  {
   "cell_type": "markdown",
   "id": "8427868a",
   "metadata": {},
   "source": [
    "# Introduction"
   ]
  },
  {
   "cell_type": "markdown",
   "id": "6a64e85e",
   "metadata": {},
   "source": [
    "Often times, a user may find it more insightful to have confidence intervals together with a point prediction.\n",
    "\n",
    "Confidence intervals provide a proxy to the range of deviation in the point prediction.\n",
    "\n",
    "A wider confience interval may signify that the prediction is not very reliable. \n",
    "\n",
    "In this notebook, we estimate the confidence interval of a prediction using a quantile objective function.\n",
    "\n",
    "A quantile objective function can also be used to generate a distribution of the prediction. This may be a source of additional features for downstream tasks.  \n",
    "\n",
    "log cosh function is used as a smooth approximation to a quantile function. Mathematically, the objective function for the $\\alpha$ quantile is given by   \n",
    "\n",
    "$$\n",
    "\\begin{cases}\n",
    "  (1-\\alpha) \\log ( \\cosh(x)) & \\text{:} & x < 0\\\\    \n",
    "  \\alpha \\log ( \\cosh(x)) & \\text{:} & x \\geq 0    \n",
    "\\end{cases}\n",
    "$$   \n",
    "\n",
    "A case study involving the california housing data is also provided."
   ]
  },
  {
   "cell_type": "code",
   "execution_count": null,
   "id": "277a7ce9",
   "metadata": {},
   "outputs": [],
   "source": []
  }
 ],
 "metadata": {
  "kernelspec": {
   "display_name": "pGBoost",
   "language": "python",
   "name": "pgboost"
  },
  "language_info": {
   "codemirror_mode": {
    "name": "ipython",
    "version": 3
   },
   "file_extension": ".py",
   "mimetype": "text/x-python",
   "name": "python",
   "nbconvert_exporter": "python",
   "pygments_lexer": "ipython3",
   "version": "3.9.2"
  }
 },
 "nbformat": 4,
 "nbformat_minor": 5
}
