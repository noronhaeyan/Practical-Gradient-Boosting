{
 "cells": [
  {
   "cell_type": "markdown",
   "id": "cd92012a",
   "metadata": {},
   "source": [
    "# Introduction"
   ]
  },
  {
   "cell_type": "markdown",
   "id": "c96aadb6",
   "metadata": {},
   "source": [
    "Typically, hyper-parameter tuning is performed by doing a grid serach over the space of hyper-parameter values.\n",
    "\n",
    "However, the space of hyper-parameter values can be large. \n",
    "\n",
    "Training multiple models over the range of hyper-parameter values can be time consuming even with parallelization. \n",
    "\n",
    "Randomized algorithms for hyper-parameter search exist and may provide satisfactory results at low computation cost, e.g. RandomizedSearchCV and HalvingRandomSerachCV in scikit-learn. Nevertheless, we can still miss out on a better configuration for the model.\n",
    "\n",
    "Surrogate models allow optimal hyper-parameter search in a non-exhaustive way, guiding the search towards more promising candidates.\n",
    "\n",
    "In this notebook, we train an XGBoost model to predict a model score associated to a hyper-parameter value. This way, we do not have to run a complete trining to calculate model score.\n",
    "\n",
    "The general algorithm can be summarized as follows: n configurations are randomly drawn. The surrogate model performs a gain estimation for each one. the most promising configuration is then actually tested on the model to be trained. the gain obtained is reused to enrich the urrogate model.\n",
    "\n",
    "As a case study, we apply the hyper-parameter model to the Boston dataset and compare results."
   ]
  },
  {
   "cell_type": "markdown",
   "id": "0195a05d",
   "metadata": {},
   "source": [
    "# Acknowledgment"
   ]
  },
  {
   "cell_type": "markdown",
   "id": "166bf854",
   "metadata": {},
   "source": [
    "This python notebook is an implementation of the Optimizer in Chapter 6 of \"Practical Gradient Boosting\" by Guillaume Saupin"
   ]
  },
  {
   "cell_type": "markdown",
   "id": "df84f49e",
   "metadata": {},
   "source": [
    "# Configuration space and sampling"
   ]
  },
  {
   "cell_type": "markdown",
   "id": "b8232a08",
   "metadata": {},
   "source": [
    "There are two prerequisites for finding an optimal hyper-parameter configuration:\n",
    "\n",
    "    1) It is necessary to be able to describe this space of exploration.\n",
    "    \n",
    "    2) It is necessary to be able to sample configurations of this space.\n",
    "    \n",
    "The CongifSpace library in python makes this possible."
   ]
  },
  {
   "cell_type": "code",
   "execution_count": 1,
   "id": "811ff07d",
   "metadata": {},
   "outputs": [],
   "source": [
    "from ConfigSpace import ConfigurationSpace\n",
    "from ConfigSpace.hyperparameters import CategoricalHyperparameter, UniformFloatHyperparameter, UniformIntegerHyperparameter\n",
    "\n",
    "num_trees = UniformIntegerHyperparameter(\"num_trees\", 10, 50, default_value = 10)\n",
    "\n",
    "max_features = UniformIntegerHyperparameter(\"max_features\", 1, 100, default_value = 1)\n",
    "\n",
    "min_weight_frac_leaf =  UniformFloatHyperparameter(\"min_weight_frac_leaf\", 0.0, 0.5, default_value = 0.0)\n",
    "\n",
    "min_samples_to_split = UniformIntegerHyperparameter(\"min_samples_to_split\", 2, 20, default_value = 2)\n",
    "\n",
    "min_samples_in_leaf = UniformIntegerHyperparameter(\"min_samples_in_leaf\", 1, 20, default_value = 1)\n",
    "\n",
    "max_leaf_nodes = UniformIntegerHyperparameter(\"max_leaf_node\", 10, 1000, default_value = 100)"
   ]
  },
  {
   "cell_type": "markdown",
   "id": "a3ec2b7f",
   "metadata": {},
   "source": [
    "It is also possible to add categorical parameters"
   ]
  },
  {
   "cell_type": "code",
   "execution_count": 2,
   "id": "add62e87",
   "metadata": {},
   "outputs": [],
   "source": [
    "do_bootstrapping = CategoricalHyperparameter(\"do_bootstrapping\", [\"true\", \"false\"], default_value = \"true\")\n",
    "criterion = CategoricalHyperparameter(\"criterion\", [\"mse\", \"mae\"], default_value = \"mse\")"
   ]
  },
  {
   "cell_type": "markdown",
   "id": "5f16d403",
   "metadata": {},
   "source": [
    "Finally, all these parameters can be grouped in a configuration space"
   ]
  },
  {
   "cell_type": "code",
   "execution_count": 3,
   "id": "e9003759",
   "metadata": {},
   "outputs": [
    {
     "data": {
      "text/plain": [
       "[num_trees, Type: UniformInteger, Range: [10, 50], Default: 10,\n",
       " min_weight_frac_leaf, Type: UniformFloat, Range: [0.0, 0.5], Default: 0.0,\n",
       " max_features, Type: UniformInteger, Range: [1, 100], Default: 1,\n",
       " min_samples_to_split, Type: UniformInteger, Range: [2, 20], Default: 2,\n",
       " min_samples_in_leaf, Type: UniformInteger, Range: [1, 20], Default: 1,\n",
       " max_leaf_node, Type: UniformInteger, Range: [10, 1000], Default: 100,\n",
       " criterion, Type: Categorical, Choices: {mse, mae}, Default: mse,\n",
       " do_bootstrapping, Type: Categorical, Choices: {true, false}, Default: true]"
      ]
     },
     "execution_count": 3,
     "metadata": {},
     "output_type": "execute_result"
    }
   ],
   "source": [
    "cs = ConfigurationSpace()\n",
    "cs.add_hyperparameters([num_trees, min_weight_frac_leaf, max_features, min_samples_to_split, min_samples_in_leaf,\n",
    "                       max_leaf_nodes, criterion, do_bootstrapping])"
   ]
  },
  {
   "cell_type": "markdown",
   "id": "7a0ada9e",
   "metadata": {},
   "source": [
    "The configutation space can be queried to provide a random configuration"
   ]
  },
  {
   "cell_type": "code",
   "execution_count": 4,
   "id": "b562b4c7",
   "metadata": {},
   "outputs": [
    {
     "data": {
      "text/plain": [
       "Configuration(values={\n",
       "  'criterion': 'mae',\n",
       "  'do_bootstrapping': 'false',\n",
       "  'max_features': 5,\n",
       "  'max_leaf_node': 872,\n",
       "  'min_samples_in_leaf': 20,\n",
       "  'min_samples_to_split': 4,\n",
       "  'min_weight_frac_leaf': 0.42166853478101646,\n",
       "  'num_trees': 23,\n",
       "})"
      ]
     },
     "execution_count": 4,
     "metadata": {},
     "output_type": "execute_result"
    }
   ],
   "source": [
    "cs.sample_configuration()"
   ]
  },
  {
   "cell_type": "markdown",
   "id": "4d840b4c",
   "metadata": {},
   "source": [
    "# Optimizer"
   ]
  },
  {
   "cell_type": "code",
   "execution_count": null,
   "id": "f141d90f",
   "metadata": {},
   "outputs": [],
   "source": []
  },
  {
   "cell_type": "code",
   "execution_count": 20,
   "id": "16a1379b",
   "metadata": {},
   "outputs": [],
   "source": [
    "import pandas as pd\n",
    "import numpy as np\n",
    "\n",
    "class Optimizer:\n",
    "    def __init__(self,\n",
    "                algo_score,\n",
    "                max_iter,\n",
    "                max_intensification,\n",
    "                model,\n",
    "                cs):\n",
    "        self.trajectory = []\n",
    "        self.algo_score = algo_score\n",
    "        self.max_iter = max_iter\n",
    "        self.max_intensification = max_intensification\n",
    "        self.internal_model = model()\n",
    "        self.cfgs = []\n",
    "        self.scores = {}\n",
    "        self.best_cfg = None\n",
    "        self.best_score = None\n",
    "        self.cs = cs\n",
    "        \n",
    "    def cfg_to_dtf(self, cfgs):\n",
    "        \n",
    "        cfgs = [dict(cfg) for cfg in cfgs]\n",
    "        dtf = pd.DataFrame(cfgs)\n",
    "        \n",
    "        return dtf\n",
    "    \n",
    "    def optimize(self):\n",
    "        \n",
    "        cfg = self.cs.sample_configuration()\n",
    "        self.cfgs.append(cfg)\n",
    "        self.trajectory.append(cfg)\n",
    "        \n",
    "        score = self.algo_score(cfg)\n",
    "        self.scores[cfg] = score\n",
    "        self.best_cfg = cfg\n",
    "        self.best_score = score\n",
    "        dtf = self.cfg_to_dtf(self.cfgs)\n",
    "        \n",
    "        for i in range(self.max_iter):\n",
    "            \n",
    "            if dtf.shape[0] > 1:\n",
    "                \n",
    "                scores = np.array([val for key, val in self.scores.items()])\n",
    "                self.internal_model.fit(dtf, scores)\n",
    "                \n",
    "                candidates = [self.cs.sample_configuration() for i in range(self.max_intensification)]\n",
    "                candidate_scores = [self.internal_model.predict(self.cfg_to_dtf(cfg)) for cfg in candidates]\n",
    "                \n",
    "                best_candidates = np.argmax(candidate_scores)\n",
    "                \n",
    "                cfg = candidates[best_candidates]\n",
    "                \n",
    "            else:\n",
    "                \n",
    "                cfg = self.cs.sample_configuration()\n",
    "                \n",
    "            self.cfgs.append(cfg)\n",
    "            score = self.algo_score(cfg)\n",
    "            self.scores[cfg] = score\n",
    "            \n",
    "            if score > self.best_score:\n",
    "                self.best_cfg = cfg\n",
    "                self.best_score = score\n",
    "                self.trajectory.append(cfg)\n",
    "            \n",
    "            dtf = self.cfg_to_dtf(self.cfgs)"
   ]
  },
  {
   "cell_type": "markdown",
   "id": "eefeead9",
   "metadata": {},
   "source": [
    "# Case study: Boston Dataset"
   ]
  },
  {
   "cell_type": "code",
   "execution_count": 6,
   "id": "a98e1e05",
   "metadata": {},
   "outputs": [
    {
     "ename": "ImportError",
     "evalue": "\n`load_boston` has been removed from scikit-learn since version 1.2.\n\nThe Boston housing prices dataset has an ethical problem: as\ninvestigated in [1], the authors of this dataset engineered a\nnon-invertible variable \"B\" assuming that racial self-segregation had a\npositive impact on house prices [2]. Furthermore the goal of the\nresearch that led to the creation of this dataset was to study the\nimpact of air quality but it did not give adequate demonstration of the\nvalidity of this assumption.\n\nThe scikit-learn maintainers therefore strongly discourage the use of\nthis dataset unless the purpose of the code is to study and educate\nabout ethical issues in data science and machine learning.\n\nIn this special case, you can fetch the dataset from the original\nsource::\n\n    import pandas as pd\n    import numpy as np\n\n    data_url = \"http://lib.stat.cmu.edu/datasets/boston\"\n    raw_df = pd.read_csv(data_url, sep=\"\\s+\", skiprows=22, header=None)\n    data = np.hstack([raw_df.values[::2, :], raw_df.values[1::2, :2]])\n    target = raw_df.values[1::2, 2]\n\nAlternative datasets include the California housing dataset and the\nAmes housing dataset. You can load the datasets as follows::\n\n    from sklearn.datasets import fetch_california_housing\n    housing = fetch_california_housing()\n\nfor the California housing dataset and::\n\n    from sklearn.datasets import fetch_openml\n    housing = fetch_openml(name=\"house_prices\", as_frame=True)\n\nfor the Ames housing dataset.\n\n[1] M Carlisle.\n\"Racist data destruction?\"\n<https://medium.com/@docintangible/racist-data-destruction-113e3eff54a8>\n\n[2] Harrison Jr, David, and Daniel L. Rubinfeld.\n\"Hedonic housing prices and the demand for clean air.\"\nJournal of environmental economics and management 5.1 (1978): 81-102.\n<https://www.researchgate.net/publication/4974606_Hedonic_housing_prices_and_the_demand_for_clean_air>\n",
     "output_type": "error",
     "traceback": [
      "\u001b[1;31m---------------------------------------------------------------------------\u001b[0m",
      "\u001b[1;31mImportError\u001b[0m                               Traceback (most recent call last)",
      "Cell \u001b[1;32mIn[6], line 1\u001b[0m\n\u001b[1;32m----> 1\u001b[0m \u001b[38;5;28;01mfrom\u001b[39;00m \u001b[38;5;21;01msklearn\u001b[39;00m\u001b[38;5;21;01m.\u001b[39;00m\u001b[38;5;21;01mdatasets\u001b[39;00m \u001b[38;5;28;01mimport\u001b[39;00m load_boston\n",
      "File \u001b[1;32mc:\\workspace\\PGBoost\\pGBoost\\lib\\site-packages\\sklearn\\datasets\\__init__.py:156\u001b[0m, in \u001b[0;36m__getattr__\u001b[1;34m(name)\u001b[0m\n\u001b[0;32m    105\u001b[0m \u001b[38;5;28;01mif\u001b[39;00m name \u001b[38;5;241m==\u001b[39m \u001b[38;5;124m\"\u001b[39m\u001b[38;5;124mload_boston\u001b[39m\u001b[38;5;124m\"\u001b[39m:\n\u001b[0;32m    106\u001b[0m     msg \u001b[38;5;241m=\u001b[39m textwrap\u001b[38;5;241m.\u001b[39mdedent(\n\u001b[0;32m    107\u001b[0m \u001b[38;5;250m        \u001b[39m\u001b[38;5;124;03m\"\"\"\u001b[39;00m\n\u001b[0;32m    108\u001b[0m \u001b[38;5;124;03m        `load_boston` has been removed from scikit-learn since version 1.2.\u001b[39;00m\n\u001b[1;32m   (...)\u001b[0m\n\u001b[0;32m    154\u001b[0m \u001b[38;5;124;03m        \"\"\"\u001b[39;00m\n\u001b[0;32m    155\u001b[0m     )\n\u001b[1;32m--> 156\u001b[0m     \u001b[38;5;28;01mraise\u001b[39;00m \u001b[38;5;167;01mImportError\u001b[39;00m(msg)\n\u001b[0;32m    157\u001b[0m \u001b[38;5;28;01mtry\u001b[39;00m:\n\u001b[0;32m    158\u001b[0m     \u001b[38;5;28;01mreturn\u001b[39;00m \u001b[38;5;28mglobals\u001b[39m()[name]\n",
      "\u001b[1;31mImportError\u001b[0m: \n`load_boston` has been removed from scikit-learn since version 1.2.\n\nThe Boston housing prices dataset has an ethical problem: as\ninvestigated in [1], the authors of this dataset engineered a\nnon-invertible variable \"B\" assuming that racial self-segregation had a\npositive impact on house prices [2]. Furthermore the goal of the\nresearch that led to the creation of this dataset was to study the\nimpact of air quality but it did not give adequate demonstration of the\nvalidity of this assumption.\n\nThe scikit-learn maintainers therefore strongly discourage the use of\nthis dataset unless the purpose of the code is to study and educate\nabout ethical issues in data science and machine learning.\n\nIn this special case, you can fetch the dataset from the original\nsource::\n\n    import pandas as pd\n    import numpy as np\n\n    data_url = \"http://lib.stat.cmu.edu/datasets/boston\"\n    raw_df = pd.read_csv(data_url, sep=\"\\s+\", skiprows=22, header=None)\n    data = np.hstack([raw_df.values[::2, :], raw_df.values[1::2, :2]])\n    target = raw_df.values[1::2, 2]\n\nAlternative datasets include the California housing dataset and the\nAmes housing dataset. You can load the datasets as follows::\n\n    from sklearn.datasets import fetch_california_housing\n    housing = fetch_california_housing()\n\nfor the California housing dataset and::\n\n    from sklearn.datasets import fetch_openml\n    housing = fetch_openml(name=\"house_prices\", as_frame=True)\n\nfor the Ames housing dataset.\n\n[1] M Carlisle.\n\"Racist data destruction?\"\n<https://medium.com/@docintangible/racist-data-destruction-113e3eff54a8>\n\n[2] Harrison Jr, David, and Daniel L. Rubinfeld.\n\"Hedonic housing prices and the demand for clean air.\"\nJournal of environmental economics and management 5.1 (1978): 81-102.\n<https://www.researchgate.net/publication/4974606_Hedonic_housing_prices_and_the_demand_for_clean_air>\n"
     ]
    }
   ],
   "source": [
    "from sklearn.datasets import load_boston"
   ]
  },
  {
   "cell_type": "markdown",
   "id": "4c01c5ee",
   "metadata": {},
   "source": [
    "# Case stude: California housing"
   ]
  },
  {
   "cell_type": "code",
   "execution_count": 7,
   "id": "0cad7b74",
   "metadata": {},
   "outputs": [],
   "source": [
    "from sklearn.datasets import fetch_california_housing\n",
    "from sklearn.ensemble import RandomForestRegressor\n",
    "from catboost import CatBoostRegressor\n",
    "from xgboost.sklearn import XGBRegressor\n",
    "from sklearn.metrics import make_scorer\n",
    "from sklearn.model_selection import cross_val_score\n",
    "\n",
    "import matplotlib.pyplot as plt"
   ]
  },
  {
   "cell_type": "code",
   "execution_count": 8,
   "id": "a0173292",
   "metadata": {},
   "outputs": [],
   "source": [
    "def run(data, target, cfg):\n",
    "    \n",
    "    cfg_dict = {key:cfg[key] for key in cfg}\n",
    "    \n",
    "    rfr = RandomForestRegressor(**cfg_dict)\n",
    "    \n",
    "    def rmse(y, y_pred):\n",
    "        return np.sqrt(np.mean(y_pred - y)**2)\n",
    "    \n",
    "    rmse_scorer = make_scorer(rmse, greater_is_better = False)\n",
    "    score = cross_val_score(rfr, data, target, cv = 5, scoring=rmse_scorer, verbose = 0)\n",
    "    score = np.mean(score)\n",
    "    \n",
    "    return score"
   ]
  },
  {
   "cell_type": "code",
   "execution_count": 9,
   "id": "d14ef86a",
   "metadata": {},
   "outputs": [],
   "source": [
    "num_trees = UniformIntegerHyperparameter(\"n_estimators\", 10, 50, default_value = 10)\n",
    "\n",
    "max_features = UniformIntegerHyperparameter(\"max_features\", 1, 13, default_value = 1)\n",
    "\n",
    "min_weight_frac_leaf =  UniformFloatHyperparameter(\"min_weight_fraction_leaf\", 0.0, 0.5, default_value = 0.0)\n",
    "\n",
    "min_samples_to_split = UniformIntegerHyperparameter(\"min_samples_split\", 2, 20, default_value = 2)\n",
    "\n",
    "min_samples_in_leaf = UniformIntegerHyperparameter(\"min_samples_leaf\", 1, 20, default_value = 1)\n",
    "\n",
    "max_leaf_nodes = UniformIntegerHyperparameter(\"max_leaf_nodes\", 10, 1000, default_value = 100)\n",
    "\n",
    "do_bootstrapping = CategoricalHyperparameter(\"bootstrap\", [True, False], default_value = True)\n",
    "\n",
    "criterion = CategoricalHyperparameter(\"criterion\", [\"friedman_mse\", \"absolute_error\"], default_value = \"friedman_mse\")"
   ]
  },
  {
   "cell_type": "code",
   "execution_count": 10,
   "id": "c406fdc3",
   "metadata": {},
   "outputs": [
    {
     "data": {
      "text/plain": [
       "[n_estimators, Type: UniformInteger, Range: [10, 50], Default: 10,\n",
       " min_weight_fraction_leaf, Type: UniformFloat, Range: [0.0, 0.5], Default: 0.0,\n",
       " max_features, Type: UniformInteger, Range: [1, 13], Default: 1,\n",
       " min_samples_split, Type: UniformInteger, Range: [2, 20], Default: 2,\n",
       " min_samples_leaf, Type: UniformInteger, Range: [1, 20], Default: 1,\n",
       " max_leaf_nodes, Type: UniformInteger, Range: [10, 1000], Default: 100,\n",
       " criterion, Type: Categorical, Choices: {friedman_mse, absolute_error}, Default: friedman_mse,\n",
       " bootstrap, Type: Categorical, Choices: {True, False}, Default: True]"
      ]
     },
     "execution_count": 10,
     "metadata": {},
     "output_type": "execute_result"
    }
   ],
   "source": [
    "cs = ConfigurationSpace()\n",
    "cs.add_hyperparameters([num_trees, min_weight_frac_leaf, max_features, min_samples_to_split, min_samples_in_leaf,\n",
    "                       max_leaf_nodes, criterion, do_bootstrapping])"
   ]
  },
  {
   "cell_type": "code",
   "execution_count": 11,
   "id": "20c08586",
   "metadata": {},
   "outputs": [],
   "source": [
    "housing = fetch_california_housing()\n",
    "max_intensity = 25"
   ]
  },
  {
   "cell_type": "code",
   "execution_count": 15,
   "id": "028cc059",
   "metadata": {},
   "outputs": [
    {
     "ename": "CatBoostError",
     "evalue": "Input data must have at least one feature",
     "output_type": "error",
     "traceback": [
      "\u001b[1;31m---------------------------------------------------------------------------\u001b[0m",
      "\u001b[1;31mCatBoostError\u001b[0m                             Traceback (most recent call last)",
      "File \u001b[1;32m<timed exec>:3\u001b[0m\n",
      "Cell \u001b[1;32mIn[14], line 46\u001b[0m, in \u001b[0;36mOptimizer.optimize\u001b[1;34m(self)\u001b[0m\n\u001b[0;32m     43\u001b[0m \u001b[38;5;28;01mif\u001b[39;00m dtf\u001b[38;5;241m.\u001b[39mshape[\u001b[38;5;241m0\u001b[39m] \u001b[38;5;241m>\u001b[39m \u001b[38;5;241m1\u001b[39m:\n\u001b[0;32m     45\u001b[0m     scores \u001b[38;5;241m=\u001b[39m np\u001b[38;5;241m.\u001b[39marray([val \u001b[38;5;28;01mfor\u001b[39;00m key, val \u001b[38;5;129;01min\u001b[39;00m \u001b[38;5;28mself\u001b[39m\u001b[38;5;241m.\u001b[39mscores\u001b[38;5;241m.\u001b[39mitems()])\n\u001b[1;32m---> 46\u001b[0m     \u001b[38;5;28;43mself\u001b[39;49m\u001b[38;5;241;43m.\u001b[39;49m\u001b[43minternal_model\u001b[49m\u001b[38;5;241;43m.\u001b[39;49m\u001b[43mfit\u001b[49m\u001b[43m(\u001b[49m\u001b[43mdtf\u001b[49m\u001b[43m,\u001b[49m\u001b[43m \u001b[49m\u001b[43mscores\u001b[49m\u001b[43m)\u001b[49m\n\u001b[0;32m     48\u001b[0m     candidates \u001b[38;5;241m=\u001b[39m [\u001b[38;5;28mself\u001b[39m\u001b[38;5;241m.\u001b[39mcs\u001b[38;5;241m.\u001b[39msample_configuration() \u001b[38;5;28;01mfor\u001b[39;00m i \u001b[38;5;129;01min\u001b[39;00m \u001b[38;5;28mrange\u001b[39m(\u001b[38;5;28mself\u001b[39m\u001b[38;5;241m.\u001b[39mmax_intensification)]\n\u001b[0;32m     49\u001b[0m     candidate_scores \u001b[38;5;241m=\u001b[39m [\u001b[38;5;28mself\u001b[39m\u001b[38;5;241m.\u001b[39minternal_model\u001b[38;5;241m.\u001b[39mpredict(cfg_to_dtf(cfg)) \u001b[38;5;28;01mfor\u001b[39;00m cfg \u001b[38;5;129;01min\u001b[39;00m candidates]\n",
      "File \u001b[1;32mc:\\workspace\\PGBoost\\pGBoost\\lib\\site-packages\\catboost\\core.py:5734\u001b[0m, in \u001b[0;36mCatBoostRegressor.fit\u001b[1;34m(self, X, y, cat_features, text_features, embedding_features, sample_weight, baseline, use_best_model, eval_set, verbose, logging_level, plot, plot_file, column_description, verbose_eval, metric_period, silent, early_stopping_rounds, save_snapshot, snapshot_file, snapshot_interval, init_model, callbacks, log_cout, log_cerr)\u001b[0m\n\u001b[0;32m   5731\u001b[0m \u001b[38;5;28;01mif\u001b[39;00m \u001b[38;5;124m'\u001b[39m\u001b[38;5;124mloss_function\u001b[39m\u001b[38;5;124m'\u001b[39m \u001b[38;5;129;01min\u001b[39;00m params:\n\u001b[0;32m   5732\u001b[0m     CatBoostRegressor\u001b[38;5;241m.\u001b[39m_check_is_compatible_loss(params[\u001b[38;5;124m'\u001b[39m\u001b[38;5;124mloss_function\u001b[39m\u001b[38;5;124m'\u001b[39m])\n\u001b[1;32m-> 5734\u001b[0m \u001b[38;5;28;01mreturn\u001b[39;00m \u001b[38;5;28;43mself\u001b[39;49m\u001b[38;5;241;43m.\u001b[39;49m\u001b[43m_fit\u001b[49m\u001b[43m(\u001b[49m\u001b[43mX\u001b[49m\u001b[43m,\u001b[49m\u001b[43m \u001b[49m\u001b[43my\u001b[49m\u001b[43m,\u001b[49m\u001b[43m \u001b[49m\u001b[43mcat_features\u001b[49m\u001b[43m,\u001b[49m\u001b[43m \u001b[49m\u001b[43mtext_features\u001b[49m\u001b[43m,\u001b[49m\u001b[43m \u001b[49m\u001b[43membedding_features\u001b[49m\u001b[43m,\u001b[49m\u001b[43m \u001b[49m\u001b[38;5;28;43;01mNone\u001b[39;49;00m\u001b[43m,\u001b[49m\u001b[43m \u001b[49m\u001b[43msample_weight\u001b[49m\u001b[43m,\u001b[49m\u001b[43m \u001b[49m\u001b[38;5;28;43;01mNone\u001b[39;49;00m\u001b[43m,\u001b[49m\u001b[43m \u001b[49m\u001b[38;5;28;43;01mNone\u001b[39;49;00m\u001b[43m,\u001b[49m\u001b[43m \u001b[49m\u001b[38;5;28;43;01mNone\u001b[39;49;00m\u001b[43m,\u001b[49m\u001b[43m \u001b[49m\u001b[38;5;28;43;01mNone\u001b[39;49;00m\u001b[43m,\u001b[49m\u001b[43m \u001b[49m\u001b[43mbaseline\u001b[49m\u001b[43m,\u001b[49m\n\u001b[0;32m   5735\u001b[0m \u001b[43m                 \u001b[49m\u001b[43muse_best_model\u001b[49m\u001b[43m,\u001b[49m\u001b[43m \u001b[49m\u001b[43meval_set\u001b[49m\u001b[43m,\u001b[49m\u001b[43m \u001b[49m\u001b[43mverbose\u001b[49m\u001b[43m,\u001b[49m\u001b[43m \u001b[49m\u001b[43mlogging_level\u001b[49m\u001b[43m,\u001b[49m\u001b[43m \u001b[49m\u001b[43mplot\u001b[49m\u001b[43m,\u001b[49m\u001b[43m \u001b[49m\u001b[43mplot_file\u001b[49m\u001b[43m,\u001b[49m\u001b[43m \u001b[49m\u001b[43mcolumn_description\u001b[49m\u001b[43m,\u001b[49m\n\u001b[0;32m   5736\u001b[0m \u001b[43m                 \u001b[49m\u001b[43mverbose_eval\u001b[49m\u001b[43m,\u001b[49m\u001b[43m \u001b[49m\u001b[43mmetric_period\u001b[49m\u001b[43m,\u001b[49m\u001b[43m \u001b[49m\u001b[43msilent\u001b[49m\u001b[43m,\u001b[49m\u001b[43m \u001b[49m\u001b[43mearly_stopping_rounds\u001b[49m\u001b[43m,\u001b[49m\n\u001b[0;32m   5737\u001b[0m \u001b[43m                 \u001b[49m\u001b[43msave_snapshot\u001b[49m\u001b[43m,\u001b[49m\u001b[43m \u001b[49m\u001b[43msnapshot_file\u001b[49m\u001b[43m,\u001b[49m\u001b[43m \u001b[49m\u001b[43msnapshot_interval\u001b[49m\u001b[43m,\u001b[49m\u001b[43m \u001b[49m\u001b[43minit_model\u001b[49m\u001b[43m,\u001b[49m\u001b[43m \u001b[49m\u001b[43mcallbacks\u001b[49m\u001b[43m,\u001b[49m\u001b[43m \u001b[49m\u001b[43mlog_cout\u001b[49m\u001b[43m,\u001b[49m\u001b[43m \u001b[49m\u001b[43mlog_cerr\u001b[49m\u001b[43m)\u001b[49m\n",
      "File \u001b[1;32mc:\\workspace\\PGBoost\\pGBoost\\lib\\site-packages\\catboost\\core.py:2341\u001b[0m, in \u001b[0;36mCatBoost._fit\u001b[1;34m(self, X, y, cat_features, text_features, embedding_features, pairs, sample_weight, group_id, group_weight, subgroup_id, pairs_weight, baseline, use_best_model, eval_set, verbose, logging_level, plot, plot_file, column_description, verbose_eval, metric_period, silent, early_stopping_rounds, save_snapshot, snapshot_file, snapshot_interval, init_model, callbacks, log_cout, log_cerr)\u001b[0m\n\u001b[0;32m   2338\u001b[0m \u001b[38;5;28;01mif\u001b[39;00m y \u001b[38;5;129;01mis\u001b[39;00m \u001b[38;5;28;01mNone\u001b[39;00m \u001b[38;5;129;01mand\u001b[39;00m \u001b[38;5;129;01mnot\u001b[39;00m \u001b[38;5;28misinstance\u001b[39m(X, PATH_TYPES \u001b[38;5;241m+\u001b[39m (Pool,)):\n\u001b[0;32m   2339\u001b[0m     \u001b[38;5;28;01mraise\u001b[39;00m CatBoostError(\u001b[38;5;124m\"\u001b[39m\u001b[38;5;124my may be None only when X is an instance of catboost.Pool or string\u001b[39m\u001b[38;5;124m\"\u001b[39m)\n\u001b[1;32m-> 2341\u001b[0m train_params \u001b[38;5;241m=\u001b[39m \u001b[38;5;28;43mself\u001b[39;49m\u001b[38;5;241;43m.\u001b[39;49m\u001b[43m_prepare_train_params\u001b[49m\u001b[43m(\u001b[49m\n\u001b[0;32m   2342\u001b[0m \u001b[43m    \u001b[49m\u001b[43mX\u001b[49m\u001b[38;5;241;43m=\u001b[39;49m\u001b[43mX\u001b[49m\u001b[43m,\u001b[49m\u001b[43m \u001b[49m\u001b[43my\u001b[49m\u001b[38;5;241;43m=\u001b[39;49m\u001b[43my\u001b[49m\u001b[43m,\u001b[49m\u001b[43m \u001b[49m\u001b[43mcat_features\u001b[49m\u001b[38;5;241;43m=\u001b[39;49m\u001b[43mcat_features\u001b[49m\u001b[43m,\u001b[49m\u001b[43m \u001b[49m\u001b[43mtext_features\u001b[49m\u001b[38;5;241;43m=\u001b[39;49m\u001b[43mtext_features\u001b[49m\u001b[43m,\u001b[49m\u001b[43m \u001b[49m\u001b[43membedding_features\u001b[49m\u001b[38;5;241;43m=\u001b[39;49m\u001b[43membedding_features\u001b[49m\u001b[43m,\u001b[49m\n\u001b[0;32m   2343\u001b[0m \u001b[43m    \u001b[49m\u001b[43mpairs\u001b[49m\u001b[38;5;241;43m=\u001b[39;49m\u001b[43mpairs\u001b[49m\u001b[43m,\u001b[49m\u001b[43m \u001b[49m\u001b[43msample_weight\u001b[49m\u001b[38;5;241;43m=\u001b[39;49m\u001b[43msample_weight\u001b[49m\u001b[43m,\u001b[49m\u001b[43m \u001b[49m\u001b[43mgroup_id\u001b[49m\u001b[38;5;241;43m=\u001b[39;49m\u001b[43mgroup_id\u001b[49m\u001b[43m,\u001b[49m\u001b[43m \u001b[49m\u001b[43mgroup_weight\u001b[49m\u001b[38;5;241;43m=\u001b[39;49m\u001b[43mgroup_weight\u001b[49m\u001b[43m,\u001b[49m\n\u001b[0;32m   2344\u001b[0m \u001b[43m    \u001b[49m\u001b[43msubgroup_id\u001b[49m\u001b[38;5;241;43m=\u001b[39;49m\u001b[43msubgroup_id\u001b[49m\u001b[43m,\u001b[49m\u001b[43m \u001b[49m\u001b[43mpairs_weight\u001b[49m\u001b[38;5;241;43m=\u001b[39;49m\u001b[43mpairs_weight\u001b[49m\u001b[43m,\u001b[49m\u001b[43m \u001b[49m\u001b[43mbaseline\u001b[49m\u001b[38;5;241;43m=\u001b[39;49m\u001b[43mbaseline\u001b[49m\u001b[43m,\u001b[49m\u001b[43m \u001b[49m\u001b[43muse_best_model\u001b[49m\u001b[38;5;241;43m=\u001b[39;49m\u001b[43muse_best_model\u001b[49m\u001b[43m,\u001b[49m\n\u001b[0;32m   2345\u001b[0m \u001b[43m    \u001b[49m\u001b[43meval_set\u001b[49m\u001b[38;5;241;43m=\u001b[39;49m\u001b[43meval_set\u001b[49m\u001b[43m,\u001b[49m\u001b[43m \u001b[49m\u001b[43mverbose\u001b[49m\u001b[38;5;241;43m=\u001b[39;49m\u001b[43mverbose\u001b[49m\u001b[43m,\u001b[49m\u001b[43m \u001b[49m\u001b[43mlogging_level\u001b[49m\u001b[38;5;241;43m=\u001b[39;49m\u001b[43mlogging_level\u001b[49m\u001b[43m,\u001b[49m\u001b[43m \u001b[49m\u001b[43mplot\u001b[49m\u001b[38;5;241;43m=\u001b[39;49m\u001b[43mplot\u001b[49m\u001b[43m,\u001b[49m\u001b[43m \u001b[49m\u001b[43mplot_file\u001b[49m\u001b[38;5;241;43m=\u001b[39;49m\u001b[43mplot_file\u001b[49m\u001b[43m,\u001b[49m\n\u001b[0;32m   2346\u001b[0m \u001b[43m    \u001b[49m\u001b[43mcolumn_description\u001b[49m\u001b[38;5;241;43m=\u001b[39;49m\u001b[43mcolumn_description\u001b[49m\u001b[43m,\u001b[49m\u001b[43m \u001b[49m\u001b[43mverbose_eval\u001b[49m\u001b[38;5;241;43m=\u001b[39;49m\u001b[43mverbose_eval\u001b[49m\u001b[43m,\u001b[49m\u001b[43m \u001b[49m\u001b[43mmetric_period\u001b[49m\u001b[38;5;241;43m=\u001b[39;49m\u001b[43mmetric_period\u001b[49m\u001b[43m,\u001b[49m\n\u001b[0;32m   2347\u001b[0m \u001b[43m    \u001b[49m\u001b[43msilent\u001b[49m\u001b[38;5;241;43m=\u001b[39;49m\u001b[43msilent\u001b[49m\u001b[43m,\u001b[49m\u001b[43m \u001b[49m\u001b[43mearly_stopping_rounds\u001b[49m\u001b[38;5;241;43m=\u001b[39;49m\u001b[43mearly_stopping_rounds\u001b[49m\u001b[43m,\u001b[49m\u001b[43m \u001b[49m\u001b[43msave_snapshot\u001b[49m\u001b[38;5;241;43m=\u001b[39;49m\u001b[43msave_snapshot\u001b[49m\u001b[43m,\u001b[49m\n\u001b[0;32m   2348\u001b[0m \u001b[43m    \u001b[49m\u001b[43msnapshot_file\u001b[49m\u001b[38;5;241;43m=\u001b[39;49m\u001b[43msnapshot_file\u001b[49m\u001b[43m,\u001b[49m\u001b[43m \u001b[49m\u001b[43msnapshot_interval\u001b[49m\u001b[38;5;241;43m=\u001b[39;49m\u001b[43msnapshot_interval\u001b[49m\u001b[43m,\u001b[49m\u001b[43m \u001b[49m\u001b[43minit_model\u001b[49m\u001b[38;5;241;43m=\u001b[39;49m\u001b[43minit_model\u001b[49m\u001b[43m,\u001b[49m\n\u001b[0;32m   2349\u001b[0m \u001b[43m    \u001b[49m\u001b[43mcallbacks\u001b[49m\u001b[38;5;241;43m=\u001b[39;49m\u001b[43mcallbacks\u001b[49m\n\u001b[0;32m   2350\u001b[0m \u001b[43m\u001b[49m\u001b[43m)\u001b[49m\n\u001b[0;32m   2351\u001b[0m params \u001b[38;5;241m=\u001b[39m train_params[\u001b[38;5;124m\"\u001b[39m\u001b[38;5;124mparams\u001b[39m\u001b[38;5;124m\"\u001b[39m]\n\u001b[0;32m   2352\u001b[0m train_pool \u001b[38;5;241m=\u001b[39m train_params[\u001b[38;5;124m\"\u001b[39m\u001b[38;5;124mtrain_pool\u001b[39m\u001b[38;5;124m\"\u001b[39m]\n",
      "File \u001b[1;32mc:\\workspace\\PGBoost\\pGBoost\\lib\\site-packages\\catboost\\core.py:2222\u001b[0m, in \u001b[0;36mCatBoost._prepare_train_params\u001b[1;34m(self, X, y, cat_features, text_features, embedding_features, pairs, sample_weight, group_id, group_weight, subgroup_id, pairs_weight, baseline, use_best_model, eval_set, verbose, logging_level, plot, plot_file, column_description, verbose_eval, metric_period, silent, early_stopping_rounds, save_snapshot, snapshot_file, snapshot_interval, init_model, callbacks)\u001b[0m\n\u001b[0;32m   2219\u001b[0m text_features \u001b[38;5;241m=\u001b[39m _process_feature_indices(text_features, X, params, \u001b[38;5;124m'\u001b[39m\u001b[38;5;124mtext_features\u001b[39m\u001b[38;5;124m'\u001b[39m)\n\u001b[0;32m   2220\u001b[0m embedding_features \u001b[38;5;241m=\u001b[39m _process_feature_indices(embedding_features, X, params, \u001b[38;5;124m'\u001b[39m\u001b[38;5;124membedding_features\u001b[39m\u001b[38;5;124m'\u001b[39m)\n\u001b[1;32m-> 2222\u001b[0m train_pool \u001b[38;5;241m=\u001b[39m \u001b[43m_build_train_pool\u001b[49m\u001b[43m(\u001b[49m\u001b[43mX\u001b[49m\u001b[43m,\u001b[49m\u001b[43m \u001b[49m\u001b[43my\u001b[49m\u001b[43m,\u001b[49m\u001b[43m \u001b[49m\u001b[43mcat_features\u001b[49m\u001b[43m,\u001b[49m\u001b[43m \u001b[49m\u001b[43mtext_features\u001b[49m\u001b[43m,\u001b[49m\u001b[43m \u001b[49m\u001b[43membedding_features\u001b[49m\u001b[43m,\u001b[49m\u001b[43m \u001b[49m\u001b[43mpairs\u001b[49m\u001b[43m,\u001b[49m\n\u001b[0;32m   2223\u001b[0m \u001b[43m                               \u001b[49m\u001b[43msample_weight\u001b[49m\u001b[43m,\u001b[49m\u001b[43m \u001b[49m\u001b[43mgroup_id\u001b[49m\u001b[43m,\u001b[49m\u001b[43m \u001b[49m\u001b[43mgroup_weight\u001b[49m\u001b[43m,\u001b[49m\u001b[43m \u001b[49m\u001b[43msubgroup_id\u001b[49m\u001b[43m,\u001b[49m\u001b[43m \u001b[49m\u001b[43mpairs_weight\u001b[49m\u001b[43m,\u001b[49m\n\u001b[0;32m   2224\u001b[0m \u001b[43m                               \u001b[49m\u001b[43mbaseline\u001b[49m\u001b[43m,\u001b[49m\u001b[43m \u001b[49m\u001b[43mcolumn_description\u001b[49m\u001b[43m)\u001b[49m\n\u001b[0;32m   2225\u001b[0m \u001b[38;5;28;01mif\u001b[39;00m train_pool\u001b[38;5;241m.\u001b[39mis_empty_:\n\u001b[0;32m   2226\u001b[0m     \u001b[38;5;28;01mraise\u001b[39;00m CatBoostError(\u001b[38;5;124m\"\u001b[39m\u001b[38;5;124mX is empty.\u001b[39m\u001b[38;5;124m\"\u001b[39m)\n",
      "File \u001b[1;32mc:\\workspace\\PGBoost\\pGBoost\\lib\\site-packages\\catboost\\core.py:1438\u001b[0m, in \u001b[0;36m_build_train_pool\u001b[1;34m(X, y, cat_features, text_features, embedding_features, pairs, sample_weight, group_id, group_weight, subgroup_id, pairs_weight, baseline, column_description)\u001b[0m\n\u001b[0;32m   1436\u001b[0m     \u001b[38;5;28;01mif\u001b[39;00m y \u001b[38;5;129;01mis\u001b[39;00m \u001b[38;5;28;01mNone\u001b[39;00m:\n\u001b[0;32m   1437\u001b[0m         \u001b[38;5;28;01mraise\u001b[39;00m CatBoostError(\u001b[38;5;124m\"\u001b[39m\u001b[38;5;124my has not initialized in fit(): X is not catboost.Pool object, y must be not None in fit().\u001b[39m\u001b[38;5;124m\"\u001b[39m)\n\u001b[1;32m-> 1438\u001b[0m     train_pool \u001b[38;5;241m=\u001b[39m \u001b[43mPool\u001b[49m\u001b[43m(\u001b[49m\u001b[43mX\u001b[49m\u001b[43m,\u001b[49m\u001b[43m \u001b[49m\u001b[43my\u001b[49m\u001b[43m,\u001b[49m\u001b[43m \u001b[49m\u001b[43mcat_features\u001b[49m\u001b[38;5;241;43m=\u001b[39;49m\u001b[43mcat_features\u001b[49m\u001b[43m,\u001b[49m\u001b[43m \u001b[49m\u001b[43mtext_features\u001b[49m\u001b[38;5;241;43m=\u001b[39;49m\u001b[43mtext_features\u001b[49m\u001b[43m,\u001b[49m\u001b[43m \u001b[49m\u001b[43membedding_features\u001b[49m\u001b[38;5;241;43m=\u001b[39;49m\u001b[43membedding_features\u001b[49m\u001b[43m,\u001b[49m\u001b[43m \u001b[49m\u001b[43mpairs\u001b[49m\u001b[38;5;241;43m=\u001b[39;49m\u001b[43mpairs\u001b[49m\u001b[43m,\u001b[49m\u001b[43m \u001b[49m\u001b[43mweight\u001b[49m\u001b[38;5;241;43m=\u001b[39;49m\u001b[43msample_weight\u001b[49m\u001b[43m,\u001b[49m\u001b[43m \u001b[49m\u001b[43mgroup_id\u001b[49m\u001b[38;5;241;43m=\u001b[39;49m\u001b[43mgroup_id\u001b[49m\u001b[43m,\u001b[49m\n\u001b[0;32m   1439\u001b[0m \u001b[43m                      \u001b[49m\u001b[43mgroup_weight\u001b[49m\u001b[38;5;241;43m=\u001b[39;49m\u001b[43mgroup_weight\u001b[49m\u001b[43m,\u001b[49m\u001b[43m \u001b[49m\u001b[43msubgroup_id\u001b[49m\u001b[38;5;241;43m=\u001b[39;49m\u001b[43msubgroup_id\u001b[49m\u001b[43m,\u001b[49m\u001b[43m \u001b[49m\u001b[43mpairs_weight\u001b[49m\u001b[38;5;241;43m=\u001b[39;49m\u001b[43mpairs_weight\u001b[49m\u001b[43m,\u001b[49m\u001b[43m \u001b[49m\u001b[43mbaseline\u001b[49m\u001b[38;5;241;43m=\u001b[39;49m\u001b[43mbaseline\u001b[49m\u001b[43m)\u001b[49m\n\u001b[0;32m   1440\u001b[0m \u001b[38;5;28;01mreturn\u001b[39;00m train_pool\n",
      "File \u001b[1;32mc:\\workspace\\PGBoost\\pGBoost\\lib\\site-packages\\catboost\\core.py:707\u001b[0m, in \u001b[0;36mPool.__init__\u001b[1;34m(self, data, label, cat_features, text_features, embedding_features, embedding_features_data, column_description, pairs, delimiter, has_header, ignore_csv_quoting, weight, group_id, group_weight, subgroup_id, pairs_weight, baseline, timestamp, feature_names, feature_tags, thread_count, log_cout, log_cerr)\u001b[0m\n\u001b[0;32m    705\u001b[0m \u001b[38;5;28;01mif\u001b[39;00m data \u001b[38;5;129;01mis\u001b[39;00m \u001b[38;5;129;01mnot\u001b[39;00m \u001b[38;5;28;01mNone\u001b[39;00m:\n\u001b[0;32m    706\u001b[0m     \u001b[38;5;28mself\u001b[39m\u001b[38;5;241m.\u001b[39m_check_data_type(data)\n\u001b[1;32m--> 707\u001b[0m     \u001b[38;5;28;43mself\u001b[39;49m\u001b[38;5;241;43m.\u001b[39;49m\u001b[43m_check_data_empty\u001b[49m\u001b[43m(\u001b[49m\u001b[43mdata\u001b[49m\u001b[43m)\u001b[49m\n\u001b[0;32m    708\u001b[0m     \u001b[38;5;28;01mif\u001b[39;00m pairs \u001b[38;5;129;01mis\u001b[39;00m \u001b[38;5;129;01mnot\u001b[39;00m \u001b[38;5;28;01mNone\u001b[39;00m \u001b[38;5;129;01mand\u001b[39;00m \u001b[38;5;28misinstance\u001b[39m(data, PATH_TYPES) \u001b[38;5;241m!=\u001b[39m \u001b[38;5;28misinstance\u001b[39m(pairs, PATH_TYPES):\n\u001b[0;32m    709\u001b[0m         \u001b[38;5;28;01mraise\u001b[39;00m CatBoostError(\u001b[38;5;124m\"\u001b[39m\u001b[38;5;124mdata and pairs parameters should be the same types.\u001b[39m\u001b[38;5;124m\"\u001b[39m)\n",
      "File \u001b[1;32mc:\\workspace\\PGBoost\\pGBoost\\lib\\site-packages\\catboost\\core.py:887\u001b[0m, in \u001b[0;36mPool._check_data_empty\u001b[1;34m(self, data)\u001b[0m\n\u001b[0;32m    885\u001b[0m     \u001b[38;5;28;01mraise\u001b[39;00m CatBoostError(\u001b[38;5;124m\"\u001b[39m\u001b[38;5;124mInput data has invalid shape: \u001b[39m\u001b[38;5;132;01m{}\u001b[39;00m\u001b[38;5;124m. Must be 2 dimensional\u001b[39m\u001b[38;5;124m\"\u001b[39m\u001b[38;5;241m.\u001b[39mformat(data_shape))\n\u001b[0;32m    886\u001b[0m \u001b[38;5;28;01mif\u001b[39;00m data_shape[\u001b[38;5;241m1\u001b[39m] \u001b[38;5;241m==\u001b[39m \u001b[38;5;241m0\u001b[39m:\n\u001b[1;32m--> 887\u001b[0m     \u001b[38;5;28;01mraise\u001b[39;00m CatBoostError(\u001b[38;5;124m\"\u001b[39m\u001b[38;5;124mInput data must have at least one feature\u001b[39m\u001b[38;5;124m\"\u001b[39m)\n",
      "\u001b[1;31mCatBoostError\u001b[0m: Input data must have at least one feature"
     ]
    }
   ],
   "source": [
    "%%time\n",
    "optimizer = Optimizer(lambda cfg: run(housing.data, housing.target, cfg), 50, 250,\n",
    "                     lambda: CatBoostRegressor(cat_features = [\"criterion\", \"bootstrap\"]), cs)\n",
    "optimizer.optimize()"
   ]
  },
  {
   "cell_type": "markdown",
   "id": "b21ddfd4",
   "metadata": {},
   "source": [
    "## For XGBoost"
   ]
  },
  {
   "cell_type": "code",
   "execution_count": 16,
   "id": "0ba2b65b",
   "metadata": {},
   "outputs": [
    {
     "data": {
      "text/plain": [
       "[n_estimators, Type: UniformInteger, Range: [10, 50], Default: 10,\n",
       " min_weight_fraction_leaf, Type: UniformFloat, Range: [0.0, 0.5], Default: 0.0,\n",
       " max_features, Type: UniformInteger, Range: [1, 13], Default: 1,\n",
       " min_samples_split, Type: UniformInteger, Range: [2, 20], Default: 2,\n",
       " min_samples_leaf, Type: UniformInteger, Range: [1, 20], Default: 1,\n",
       " max_leaf_nodes, Type: UniformInteger, Range: [10, 1000], Default: 100]"
      ]
     },
     "execution_count": 16,
     "metadata": {},
     "output_type": "execute_result"
    }
   ],
   "source": [
    "cs = ConfigurationSpace()\n",
    "cs.add_hyperparameters([num_trees, min_weight_frac_leaf, max_features, min_samples_to_split, min_samples_in_leaf, max_leaf_nodes])"
   ]
  },
  {
   "cell_type": "code",
   "execution_count": 21,
   "id": "7b57dc05",
   "metadata": {},
   "outputs": [
    {
     "ename": "ValueError",
     "evalue": "dictionary update sequence element #0 has length 1; 2 is required",
     "output_type": "error",
     "traceback": [
      "\u001b[1;31m---------------------------------------------------------------------------\u001b[0m",
      "\u001b[1;31mValueError\u001b[0m                                Traceback (most recent call last)",
      "File \u001b[1;32m<timed exec>:3\u001b[0m\n",
      "Cell \u001b[1;32mIn[20], line 49\u001b[0m, in \u001b[0;36mOptimizer.optimize\u001b[1;34m(self)\u001b[0m\n\u001b[0;32m     46\u001b[0m \u001b[38;5;28mself\u001b[39m\u001b[38;5;241m.\u001b[39minternal_model\u001b[38;5;241m.\u001b[39mfit(dtf, scores)\n\u001b[0;32m     48\u001b[0m candidates \u001b[38;5;241m=\u001b[39m [\u001b[38;5;28mself\u001b[39m\u001b[38;5;241m.\u001b[39mcs\u001b[38;5;241m.\u001b[39msample_configuration() \u001b[38;5;28;01mfor\u001b[39;00m i \u001b[38;5;129;01min\u001b[39;00m \u001b[38;5;28mrange\u001b[39m(\u001b[38;5;28mself\u001b[39m\u001b[38;5;241m.\u001b[39mmax_intensification)]\n\u001b[1;32m---> 49\u001b[0m candidate_scores \u001b[38;5;241m=\u001b[39m [\u001b[38;5;28mself\u001b[39m\u001b[38;5;241m.\u001b[39minternal_model\u001b[38;5;241m.\u001b[39mpredict(\u001b[38;5;28mself\u001b[39m\u001b[38;5;241m.\u001b[39mcfg_to_dtf(cfg)) \u001b[38;5;28;01mfor\u001b[39;00m cfg \u001b[38;5;129;01min\u001b[39;00m candidates]\n\u001b[0;32m     51\u001b[0m best_candidates \u001b[38;5;241m=\u001b[39m np\u001b[38;5;241m.\u001b[39margmax(candidate_scores)\n\u001b[0;32m     53\u001b[0m cfg \u001b[38;5;241m=\u001b[39m candidates[best_candidates]\n",
      "Cell \u001b[1;32mIn[20], line 49\u001b[0m, in \u001b[0;36m<listcomp>\u001b[1;34m(.0)\u001b[0m\n\u001b[0;32m     46\u001b[0m \u001b[38;5;28mself\u001b[39m\u001b[38;5;241m.\u001b[39minternal_model\u001b[38;5;241m.\u001b[39mfit(dtf, scores)\n\u001b[0;32m     48\u001b[0m candidates \u001b[38;5;241m=\u001b[39m [\u001b[38;5;28mself\u001b[39m\u001b[38;5;241m.\u001b[39mcs\u001b[38;5;241m.\u001b[39msample_configuration() \u001b[38;5;28;01mfor\u001b[39;00m i \u001b[38;5;129;01min\u001b[39;00m \u001b[38;5;28mrange\u001b[39m(\u001b[38;5;28mself\u001b[39m\u001b[38;5;241m.\u001b[39mmax_intensification)]\n\u001b[1;32m---> 49\u001b[0m candidate_scores \u001b[38;5;241m=\u001b[39m [\u001b[38;5;28mself\u001b[39m\u001b[38;5;241m.\u001b[39minternal_model\u001b[38;5;241m.\u001b[39mpredict(\u001b[38;5;28;43mself\u001b[39;49m\u001b[38;5;241;43m.\u001b[39;49m\u001b[43mcfg_to_dtf\u001b[49m\u001b[43m(\u001b[49m\u001b[43mcfg\u001b[49m\u001b[43m)\u001b[49m) \u001b[38;5;28;01mfor\u001b[39;00m cfg \u001b[38;5;129;01min\u001b[39;00m candidates]\n\u001b[0;32m     51\u001b[0m best_candidates \u001b[38;5;241m=\u001b[39m np\u001b[38;5;241m.\u001b[39margmax(candidate_scores)\n\u001b[0;32m     53\u001b[0m cfg \u001b[38;5;241m=\u001b[39m candidates[best_candidates]\n",
      "Cell \u001b[1;32mIn[20], line 24\u001b[0m, in \u001b[0;36mOptimizer.cfg_to_dtf\u001b[1;34m(self, cfgs)\u001b[0m\n\u001b[0;32m     22\u001b[0m \u001b[38;5;28;01mdef\u001b[39;00m \u001b[38;5;21mcfg_to_dtf\u001b[39m(\u001b[38;5;28mself\u001b[39m, cfgs):\n\u001b[1;32m---> 24\u001b[0m     cfgs \u001b[38;5;241m=\u001b[39m [\u001b[38;5;28mdict\u001b[39m(cfg) \u001b[38;5;28;01mfor\u001b[39;00m cfg \u001b[38;5;129;01min\u001b[39;00m cfgs]\n\u001b[0;32m     25\u001b[0m     dtf \u001b[38;5;241m=\u001b[39m pd\u001b[38;5;241m.\u001b[39mDataFrame(cfgs)\n\u001b[0;32m     27\u001b[0m     \u001b[38;5;28;01mreturn\u001b[39;00m dtf\n",
      "Cell \u001b[1;32mIn[20], line 24\u001b[0m, in \u001b[0;36m<listcomp>\u001b[1;34m(.0)\u001b[0m\n\u001b[0;32m     22\u001b[0m \u001b[38;5;28;01mdef\u001b[39;00m \u001b[38;5;21mcfg_to_dtf\u001b[39m(\u001b[38;5;28mself\u001b[39m, cfgs):\n\u001b[1;32m---> 24\u001b[0m     cfgs \u001b[38;5;241m=\u001b[39m [\u001b[38;5;28;43mdict\u001b[39;49m\u001b[43m(\u001b[49m\u001b[43mcfg\u001b[49m\u001b[43m)\u001b[49m \u001b[38;5;28;01mfor\u001b[39;00m cfg \u001b[38;5;129;01min\u001b[39;00m cfgs]\n\u001b[0;32m     25\u001b[0m     dtf \u001b[38;5;241m=\u001b[39m pd\u001b[38;5;241m.\u001b[39mDataFrame(cfgs)\n\u001b[0;32m     27\u001b[0m     \u001b[38;5;28;01mreturn\u001b[39;00m dtf\n",
      "\u001b[1;31mValueError\u001b[0m: dictionary update sequence element #0 has length 1; 2 is required"
     ]
    }
   ],
   "source": [
    "%%time\n",
    "optimizer_xgb = Optimizer(lambda cfg: run(housing.data, housing.target, cfg), 50, 250,\n",
    "                         XGBRegressor, cs)\n",
    "optimizer_xgb.optimize()"
   ]
  },
  {
   "cell_type": "markdown",
   "id": "8dc8f8b5",
   "metadata": {},
   "source": [
    "# Plotting the results"
   ]
  },
  {
   "cell_type": "code",
   "execution_count": null,
   "id": "cb0b2af1",
   "metadata": {},
   "outputs": [],
   "source": [
    "plt.plot(optimizer.scores)\n",
    "plt.plot(optimizer_xgb.scores, \"_\")"
   ]
  },
  {
   "cell_type": "code",
   "execution_count": null,
   "id": "d14afc39",
   "metadata": {},
   "outputs": [],
   "source": []
  }
 ],
 "metadata": {
  "kernelspec": {
   "display_name": "pGBoost",
   "language": "python",
   "name": "pgboost"
  },
  "language_info": {
   "codemirror_mode": {
    "name": "ipython",
    "version": 3
   },
   "file_extension": ".py",
   "mimetype": "text/x-python",
   "name": "python",
   "nbconvert_exporter": "python",
   "pygments_lexer": "ipython3",
   "version": "3.9.2"
  }
 },
 "nbformat": 4,
 "nbformat_minor": 5
}
