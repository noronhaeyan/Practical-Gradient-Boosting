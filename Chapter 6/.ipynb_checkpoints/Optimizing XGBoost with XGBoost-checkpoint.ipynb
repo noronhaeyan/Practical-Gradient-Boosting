{
 "cells": [
  {
   "cell_type": "markdown",
   "id": "342311e4",
   "metadata": {},
   "source": [
    "# Introduction"
   ]
  },
  {
   "cell_type": "markdown",
   "id": "86d3c1e1",
   "metadata": {},
   "source": [
    "Typically, hyper-parameter tuning is performed by doing a grid serach over the space of hyper-parameter values.\n",
    "\n",
    "However, the space of hyper-parameter values can be large. \n",
    "\n",
    "Training multiple models over the range of hyper-parameter values can be time consuming even with parallelization. \n",
    "\n",
    "Randomized algorithms for hyper-parameter search exist and may provide satisfactory results at low computation cost, e.g. RandomizedSearchCV and HalvingRandomSerachCV in scikit-learn. Nevertheless, we can still miss out on a better configuration for the model.\n",
    "\n",
    "Surrogate models allow optimal hyper-parameter search in a non-exhaustive way, guiding the search towards more promising candidates.\n",
    "\n",
    "In this notebook, we train an XGBoost model to predict a model score associated to a hyper-parameter value. This way, we do not have to run a complete trining to calculate model score.\n",
    "\n",
    "The general algorithm can be summarized as follows: n configurations are randomly drawn. The surrogate model performs a gain estimation for each one. the most promising configuration is then actually tested on the model to be trained. the gain obtained is reused to enrich the urrogate model.\n",
    "\n",
    "As a case study, we apply the hyper-parameter model to the Boston dataset and compare results."
   ]
  },
  {
   "cell_type": "markdown",
   "id": "41ab03e1",
   "metadata": {},
   "source": [
    "# Acknowledgment"
   ]
  },
  {
   "cell_type": "markdown",
   "id": "ddade03f",
   "metadata": {},
   "source": [
    "This python notebook is an implementation of the Optimizer in Chapter 6 of \"Practical Gradient Boosting\" by Guillaume Saupin"
   ]
  },
  {
   "cell_type": "markdown",
   "id": "1dbe54f7",
   "metadata": {},
   "source": [
    "# Configuration space and sampling"
   ]
  },
  {
   "cell_type": "markdown",
   "id": "d10dfdbe",
   "metadata": {},
   "source": [
    "There are two prerequisites for finding an optimal hyper-parameter configuration:\n",
    "\n",
    "    1) It is necessary to be able to describe this space of exploration.\n",
    "    \n",
    "    2) It is necessary to be able to sample configurations of this space.\n",
    "    \n",
    "The CongifSpace library in python makes this possible."
   ]
  },
  {
   "cell_type": "code",
   "execution_count": 1,
   "id": "7c04c21d",
   "metadata": {},
   "outputs": [],
   "source": [
    "from ConfigSpace import ConfigurationSpace\n",
    "from ConfigSpace.hyperparameters import CategoricalHyperparameter, UniformFloatHyperparameter, UniformIntegerHyperparameter\n",
    "\n",
    "num_trees = UniformIntegerHyperparameter(\"num_trees\", 10, 50, default_value = 10)\n",
    "\n",
    "max_features = UniformIntegerHyperparameter(\"max_features\", 1, 100, default_value = 1)\n",
    "\n",
    "min_weight_frac_leaf =  UniformFloatHyperparameter(\"min_weight_frac_leaf\", 0.0, 0.5, default_value = 0.0)\n",
    "\n",
    "min_samples_to_split = UniformIntegerHyperparameter(\"min_samples_to_split\", 2, 20, default_value = 2)\n",
    "\n",
    "min_samples_in_leaf = UniformIntegerHyperparameter(\"min_samples_in_leaf\", 1, 20, default_value = 1)\n",
    "\n",
    "max_leaf_nodes = UniformIntegerHyperparameter(\"max_leaf_node\", 10, 1000, default_value = 100)"
   ]
  },
  {
   "cell_type": "markdown",
   "id": "48fda90f",
   "metadata": {},
   "source": [
    "It is also possible to add categorical parameters"
   ]
  },
  {
   "cell_type": "code",
   "execution_count": 2,
   "id": "3bb64d9b",
   "metadata": {},
   "outputs": [],
   "source": [
    "do_bootstrapping = CategoricalHyperparameter(\"do_bootstrapping\", [\"true\", \"false\"], default_value = \"true\")\n",
    "criterion = CategoricalHyperparameter(\"criterion\", [\"mse\", \"mae\"], default_value = \"mse\")"
   ]
  },
  {
   "cell_type": "markdown",
   "id": "e884ea31",
   "metadata": {},
   "source": [
    "Finally, all these parameters can be grouped in a configuration space"
   ]
  },
  {
   "cell_type": "code",
   "execution_count": 3,
   "id": "d9ac690a",
   "metadata": {},
   "outputs": [
    {
     "data": {
      "text/plain": [
       "[num_trees, Type: UniformInteger, Range: [10, 50], Default: 10,\n",
       " min_weight_frac_leaf, Type: UniformFloat, Range: [0.0, 0.5], Default: 0.0,\n",
       " max_features, Type: UniformInteger, Range: [1, 100], Default: 1,\n",
       " min_samples_to_split, Type: UniformInteger, Range: [2, 20], Default: 2,\n",
       " min_samples_in_leaf, Type: UniformInteger, Range: [1, 20], Default: 1,\n",
       " max_leaf_node, Type: UniformInteger, Range: [10, 1000], Default: 100,\n",
       " criterion, Type: Categorical, Choices: {mse, mae}, Default: mse,\n",
       " do_bootstrapping, Type: Categorical, Choices: {true, false}, Default: true]"
      ]
     },
     "execution_count": 3,
     "metadata": {},
     "output_type": "execute_result"
    }
   ],
   "source": [
    "cs = ConfigurationSpace()\n",
    "cs.add_hyperparameters([num_trees, min_weight_frac_leaf, max_features, min_samples_to_split, min_samples_in_leaf,\n",
    "                       max_leaf_nodes, criterion, do_bootstrapping])"
   ]
  },
  {
   "cell_type": "markdown",
   "id": "6d759c2a",
   "metadata": {},
   "source": [
    "The configutation space can be queried to provide a random configuration"
   ]
  },
  {
   "cell_type": "code",
   "execution_count": 4,
   "id": "68734e50",
   "metadata": {},
   "outputs": [
    {
     "data": {
      "text/plain": [
       "Configuration(values={\n",
       "  'criterion': 'mae',\n",
       "  'do_bootstrapping': 'false',\n",
       "  'max_features': 5,\n",
       "  'max_leaf_node': 872,\n",
       "  'min_samples_in_leaf': 20,\n",
       "  'min_samples_to_split': 4,\n",
       "  'min_weight_frac_leaf': 0.42166853478101646,\n",
       "  'num_trees': 23,\n",
       "})"
      ]
     },
     "execution_count": 4,
     "metadata": {},
     "output_type": "execute_result"
    }
   ],
   "source": [
    "cs.sample_configuration()"
   ]
  },
  {
   "cell_type": "markdown",
   "id": "d18ee0ac",
   "metadata": {},
   "source": [
    "# Optimizer"
   ]
  },
  {
   "cell_type": "code",
   "execution_count": null,
   "id": "b339a968",
   "metadata": {},
   "outputs": [],
   "source": []
  },
  {
   "cell_type": "code",
   "execution_count": 5,
   "id": "63f8d1cd",
   "metadata": {},
   "outputs": [],
   "source": [
    "import pandas as pd\n",
    "import numpy as np\n",
    "\n",
    "class Optimizer:\n",
    "    def __init__(self,\n",
    "                algo_score,\n",
    "                max_iter,\n",
    "                max_intensification,\n",
    "                model,\n",
    "                cs):\n",
    "        self.trajectory = []\n",
    "        self.algo_score = algo_score\n",
    "        self.max_iter = max_iter\n",
    "        self.max_intensification = max_intensification\n",
    "        self.internal_model = model()\n",
    "        self.cfgs = []\n",
    "        self.scores = {}\n",
    "        self.best_cfg = None\n",
    "        self.best_score = None\n",
    "        self.cs = cs\n",
    "        \n",
    "    def cfg_to_dtf(self, cfgs):\n",
    "        \n",
    "        cfgs = [dic(cfg) for cfg in cfgs]\n",
    "        dtf = pd.DataFrame(cfgs)\n",
    "        \n",
    "        return dtf\n",
    "    \n",
    "    def optimize(self):\n",
    "        \n",
    "        cfg = self.cs.sample_configuration()\n",
    "        self.cfgs.append(cfg)\n",
    "        self.trajectory.append(cfg)\n",
    "        \n",
    "        score = self.algo_score(cfg)\n",
    "        self.scores[cfg] = score\n",
    "        self.best_cfg = cfg\n",
    "        self.best_score = score\n",
    "        dtf = self.cfg_to_dtf(self.cfgs)\n",
    "        \n",
    "        for i in range(self.max_iter):\n",
    "            \n",
    "            if dtf.shape[0] > 1:\n",
    "                \n",
    "                scores = np.array([val for key, val in self.scores.items()])\n",
    "                self.internal_model.fit(dtf, scores)\n",
    "                \n",
    "                candidates = [self.cs.sample_configuration() for i in range(self.max_intensification)]\n",
    "                candidate_scores = [self.internal_model.predict(cfg_to_dtf(cfg)) for cfg in candidates]\n",
    "                \n",
    "                best_candidates = np.argmax(candidate_scores)\n",
    "                \n",
    "                cfg = candidates[best_candidates]\n",
    "                \n",
    "            else:\n",
    "                \n",
    "                cfg = self.cs.sample_configuration()\n",
    "                \n",
    "            self.cfgs.append(cfg)\n",
    "            score = self.algo_score(cfg)\n",
    "            self.scores[cfg] = score\n",
    "            \n",
    "            if score > self.best_score:\n",
    "                self.best_cfg = cfg\n",
    "                self.best_score = score\n",
    "                self.trajectory.append(cfg)\n",
    "            \n",
    "            dtf = self.cfg_to_dtf(self.cfgs)"
   ]
  },
  {
   "cell_type": "markdown",
   "id": "e03026fd",
   "metadata": {},
   "source": [
    "# Case study: Boston Dataset"
   ]
  },
  {
   "cell_type": "code",
   "execution_count": 6,
   "id": "7f75e1c4",
   "metadata": {},
   "outputs": [
    {
     "ename": "ImportError",
     "evalue": "\n`load_boston` has been removed from scikit-learn since version 1.2.\n\nThe Boston housing prices dataset has an ethical problem: as\ninvestigated in [1], the authors of this dataset engineered a\nnon-invertible variable \"B\" assuming that racial self-segregation had a\npositive impact on house prices [2]. Furthermore the goal of the\nresearch that led to the creation of this dataset was to study the\nimpact of air quality but it did not give adequate demonstration of the\nvalidity of this assumption.\n\nThe scikit-learn maintainers therefore strongly discourage the use of\nthis dataset unless the purpose of the code is to study and educate\nabout ethical issues in data science and machine learning.\n\nIn this special case, you can fetch the dataset from the original\nsource::\n\n    import pandas as pd\n    import numpy as np\n\n    data_url = \"http://lib.stat.cmu.edu/datasets/boston\"\n    raw_df = pd.read_csv(data_url, sep=\"\\s+\", skiprows=22, header=None)\n    data = np.hstack([raw_df.values[::2, :], raw_df.values[1::2, :2]])\n    target = raw_df.values[1::2, 2]\n\nAlternative datasets include the California housing dataset and the\nAmes housing dataset. You can load the datasets as follows::\n\n    from sklearn.datasets import fetch_california_housing\n    housing = fetch_california_housing()\n\nfor the California housing dataset and::\n\n    from sklearn.datasets import fetch_openml\n    housing = fetch_openml(name=\"house_prices\", as_frame=True)\n\nfor the Ames housing dataset.\n\n[1] M Carlisle.\n\"Racist data destruction?\"\n<https://medium.com/@docintangible/racist-data-destruction-113e3eff54a8>\n\n[2] Harrison Jr, David, and Daniel L. Rubinfeld.\n\"Hedonic housing prices and the demand for clean air.\"\nJournal of environmental economics and management 5.1 (1978): 81-102.\n<https://www.researchgate.net/publication/4974606_Hedonic_housing_prices_and_the_demand_for_clean_air>\n",
     "output_type": "error",
     "traceback": [
      "\u001b[1;31m---------------------------------------------------------------------------\u001b[0m",
      "\u001b[1;31mImportError\u001b[0m                               Traceback (most recent call last)",
      "Cell \u001b[1;32mIn[6], line 1\u001b[0m\n\u001b[1;32m----> 1\u001b[0m \u001b[38;5;28;01mfrom\u001b[39;00m \u001b[38;5;21;01msklearn\u001b[39;00m\u001b[38;5;21;01m.\u001b[39;00m\u001b[38;5;21;01mdatasets\u001b[39;00m \u001b[38;5;28;01mimport\u001b[39;00m load_boston\n",
      "File \u001b[1;32mc:\\workspace\\PGBoost\\pGBoost\\lib\\site-packages\\sklearn\\datasets\\__init__.py:156\u001b[0m, in \u001b[0;36m__getattr__\u001b[1;34m(name)\u001b[0m\n\u001b[0;32m    105\u001b[0m \u001b[38;5;28;01mif\u001b[39;00m name \u001b[38;5;241m==\u001b[39m \u001b[38;5;124m\"\u001b[39m\u001b[38;5;124mload_boston\u001b[39m\u001b[38;5;124m\"\u001b[39m:\n\u001b[0;32m    106\u001b[0m     msg \u001b[38;5;241m=\u001b[39m textwrap\u001b[38;5;241m.\u001b[39mdedent(\n\u001b[0;32m    107\u001b[0m \u001b[38;5;250m        \u001b[39m\u001b[38;5;124;03m\"\"\"\u001b[39;00m\n\u001b[0;32m    108\u001b[0m \u001b[38;5;124;03m        `load_boston` has been removed from scikit-learn since version 1.2.\u001b[39;00m\n\u001b[1;32m   (...)\u001b[0m\n\u001b[0;32m    154\u001b[0m \u001b[38;5;124;03m        \"\"\"\u001b[39;00m\n\u001b[0;32m    155\u001b[0m     )\n\u001b[1;32m--> 156\u001b[0m     \u001b[38;5;28;01mraise\u001b[39;00m \u001b[38;5;167;01mImportError\u001b[39;00m(msg)\n\u001b[0;32m    157\u001b[0m \u001b[38;5;28;01mtry\u001b[39;00m:\n\u001b[0;32m    158\u001b[0m     \u001b[38;5;28;01mreturn\u001b[39;00m \u001b[38;5;28mglobals\u001b[39m()[name]\n",
      "\u001b[1;31mImportError\u001b[0m: \n`load_boston` has been removed from scikit-learn since version 1.2.\n\nThe Boston housing prices dataset has an ethical problem: as\ninvestigated in [1], the authors of this dataset engineered a\nnon-invertible variable \"B\" assuming that racial self-segregation had a\npositive impact on house prices [2]. Furthermore the goal of the\nresearch that led to the creation of this dataset was to study the\nimpact of air quality but it did not give adequate demonstration of the\nvalidity of this assumption.\n\nThe scikit-learn maintainers therefore strongly discourage the use of\nthis dataset unless the purpose of the code is to study and educate\nabout ethical issues in data science and machine learning.\n\nIn this special case, you can fetch the dataset from the original\nsource::\n\n    import pandas as pd\n    import numpy as np\n\n    data_url = \"http://lib.stat.cmu.edu/datasets/boston\"\n    raw_df = pd.read_csv(data_url, sep=\"\\s+\", skiprows=22, header=None)\n    data = np.hstack([raw_df.values[::2, :], raw_df.values[1::2, :2]])\n    target = raw_df.values[1::2, 2]\n\nAlternative datasets include the California housing dataset and the\nAmes housing dataset. You can load the datasets as follows::\n\n    from sklearn.datasets import fetch_california_housing\n    housing = fetch_california_housing()\n\nfor the California housing dataset and::\n\n    from sklearn.datasets import fetch_openml\n    housing = fetch_openml(name=\"house_prices\", as_frame=True)\n\nfor the Ames housing dataset.\n\n[1] M Carlisle.\n\"Racist data destruction?\"\n<https://medium.com/@docintangible/racist-data-destruction-113e3eff54a8>\n\n[2] Harrison Jr, David, and Daniel L. Rubinfeld.\n\"Hedonic housing prices and the demand for clean air.\"\nJournal of environmental economics and management 5.1 (1978): 81-102.\n<https://www.researchgate.net/publication/4974606_Hedonic_housing_prices_and_the_demand_for_clean_air>\n"
     ]
    }
   ],
   "source": [
    "from sklearn.datasets import load_boston"
   ]
  },
  {
   "cell_type": "markdown",
   "id": "34f5e5a2",
   "metadata": {},
   "source": [
    "# Case stude: California housing"
   ]
  },
  {
   "cell_type": "code",
   "execution_count": null,
   "id": "1866b335",
   "metadata": {},
   "outputs": [],
   "source": [
    "from sklearn.datasets import fetch_california_housing\n",
    "from sklearn.ensemble import RandomForestRegressor\n",
    "from catboost import CatBoostRegressor\n",
    "from xgboost.sklearn import XGBRegressor\n",
    "from sklearn.metrics import make_scorer\n",
    "from sklearn.model_selection import cross_val_score\n",
    "\n",
    "import matplotlib.pyplot as plt"
   ]
  },
  {
   "cell_type": "code",
   "execution_count": null,
   "id": "32a766c9",
   "metadata": {},
   "outputs": [],
   "source": [
    "def run(data, target, cfg):\n",
    "    \n",
    "    cfg_dict = {key:cfg[key] for key in cfg}\n",
    "    \n",
    "    rfr = RandomForestRegressor(**cfg_dict)\n",
    "    \n",
    "    def rmse(y, y_pred):\n",
    "        return np.sqrt(np.mean(y_pred - y)**2)\n",
    "    \n",
    "    rmse_scorer = make_scorer(rmse, greater_is_better = False)\n",
    "    score = cross_val_score(rfr, data, target, cv = 5, scoring=rmse_scorer, verbose = 0)\n",
    "    score = np.mean(score)\n",
    "    \n",
    "    return score"
   ]
  },
  {
   "cell_type": "code",
   "execution_count": null,
   "id": "f6696740",
   "metadata": {},
   "outputs": [],
   "source": [
    "num_trees = UniformIntegerHyperparameter(\"n_estimators\", 10, 50, default_value = 10)\n",
    "\n",
    "max_features = UniformIntegerHyperparameter(\"max_features\", 1, 13, default_value = 1)\n",
    "\n",
    "min_weight_frac_leaf =  UniformFloatHyperparameter(\"min_weight_fraction_leaf\", 0.0, 0.5, default_value = 0.0)\n",
    "\n",
    "min_samples_to_split = UniformIntegerHyperparameter(\"min_samples_split\", 2, 20, default_value = 2)\n",
    "\n",
    "min_samples_in_leaf = UniformIntegerHyperparameter(\"min_samples_leaf\", 1, 20, default_value = 1)\n",
    "\n",
    "max_leaf_nodes = UniformIntegerHyperparameter(\"max_leaf_nodes\", 10, 1000, default_value = 100)\n",
    "\n",
    "do_bootstrapping = CategoricalHyperparameter(\"bootstrap\", [True, False], default_value = True)\n",
    "\n",
    "criterion = CategoricalHyperparameter(\"criterion\", [\"friedman_mse\", \"absolute_error\"], default_value = \"friedman_mse\")"
   ]
  },
  {
   "cell_type": "code",
   "execution_count": null,
   "id": "5b2ff353",
   "metadata": {},
   "outputs": [],
   "source": [
    "cs = ConfigurationSpace()\n",
    "cs.add_hyperparameters([num_trees, min_weight_frac_leaf, max_features, min_samples_to_split, min_samples_in_leaf,\n",
    "                       max_leaf_nodes, criterion, do_bootstrapping])"
   ]
  },
  {
   "cell_type": "code",
   "execution_count": null,
   "id": "34959367",
   "metadata": {},
   "outputs": [],
   "source": [
    "housing = fetch_california_housing()\n",
    "max_intensity = 25"
   ]
  },
  {
   "cell_type": "code",
   "execution_count": null,
   "id": "40e1d1c9",
   "metadata": {},
   "outputs": [],
   "source": [
    "%%time\n",
    "optimizer = Optimizer(lambda cfg: run(housing.data, housing.target, cfg), 50, 250,\n",
    "                     lambda: CatBoostRegressor(cat_features = [\"criterion\", \"bootstrap\"]), cs)\n",
    "optimizer.optimize()"
   ]
  },
  {
   "cell_type": "markdown",
   "id": "d4b4da26",
   "metadata": {},
   "source": [
    "## For XGBoost"
   ]
  },
  {
   "cell_type": "code",
   "execution_count": null,
   "id": "ffebf2f3",
   "metadata": {},
   "outputs": [],
   "source": [
    "cs = ConfigurationSpace()\n",
    "cs.add_hyperparameters([num_trees, min_weight_frac_leaf, max_features, min_sample_to_split, min_samples_in_leaf, max_leaf_nodes])"
   ]
  },
  {
   "cell_type": "code",
   "execution_count": null,
   "id": "5afb25af",
   "metadata": {},
   "outputs": [],
   "source": [
    "%%time\n",
    "optimizer_xgb = Optimizer(lambda cfg: run(housing.data, housing.target, cfg), 50, 250,\n",
    "                         XGBoostRegressor, cs)\n",
    "optimizer_xgb.optimize()"
   ]
  },
  {
   "cell_type": "markdown",
   "id": "6613d3b7",
   "metadata": {},
   "source": [
    "# Plotting the results"
   ]
  },
  {
   "cell_type": "code",
   "execution_count": null,
   "id": "31375593",
   "metadata": {},
   "outputs": [],
   "source": [
    "plt.plot(optimizer.scores, \"-\", optimizer_xgb.scores, \"_.\")"
   ]
  },
  {
   "cell_type": "code",
   "execution_count": null,
   "id": "498a67eb",
   "metadata": {},
   "outputs": [],
   "source": []
  }
 ],
 "metadata": {
  "kernelspec": {
   "display_name": "pGBoost",
   "language": "python",
   "name": "pgboost"
  },
  "language_info": {
   "codemirror_mode": {
    "name": "ipython",
    "version": 3
   },
   "file_extension": ".py",
   "mimetype": "text/x-python",
   "name": "python",
   "nbconvert_exporter": "python",
   "pygments_lexer": "ipython3",
   "version": "3.9.2"
  }
 },
 "nbformat": 4,
 "nbformat_minor": 5
}
