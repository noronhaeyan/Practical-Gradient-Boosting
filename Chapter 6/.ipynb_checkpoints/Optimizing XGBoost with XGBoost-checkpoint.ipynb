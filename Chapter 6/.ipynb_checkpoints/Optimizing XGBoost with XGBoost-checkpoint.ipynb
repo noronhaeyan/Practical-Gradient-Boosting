{
 "cells": [
  {
   "cell_type": "markdown",
   "id": "cd92012a",
   "metadata": {},
   "source": [
    "# Introduction"
   ]
  },
  {
   "cell_type": "markdown",
   "id": "c96aadb6",
   "metadata": {},
   "source": [
    "Typically, hyper-parameter tuning is performed by doing a grid serach over the space of hyper-parameter values.\n",
    "\n",
    "However, the space of hyper-parameter values can be large. \n",
    "\n",
    "Training multiple models over the range of hyper-parameter values can be time consuming even with parallelization. \n",
    "\n",
    "Randomized algorithms for hyper-parameter search exist and may provide satisfactory results at low computation cost, e.g. RandomizedSearchCV and HalvingRandomSerachCV in scikit-learn. Nevertheless, we can still miss out on a better configuration for the model.\n",
    "\n",
    "Surrogate models allow optimal hyper-parameter search in a non-exhaustive way, guiding the search towards more promising candidates.\n",
    "\n",
    "In this notebook, we train an XGBoost model to predict a model score associated to a hyper-parameter value. This way, we do not have to run a complete trining to calculate model score.\n",
    "\n",
    "The general algorithm can be summarized as follows: n configurations are randomly drawn. The surrogate model performs a gain estimation for each one. the most promising configuration is then actually tested on the model to be trained. the gain obtained is reused to enrich the urrogate model.\n",
    "\n",
    "As a case study, we apply the hyper-parameter model to the Boston dataset and compare results."
   ]
  },
  {
   "cell_type": "markdown",
   "id": "0195a05d",
   "metadata": {},
   "source": [
    "# Acknowledgment"
   ]
  },
  {
   "cell_type": "markdown",
   "id": "166bf854",
   "metadata": {},
   "source": [
    "This python notebook is an implementation of the Optimizer in Chapter 6 of \"Practical Gradient Boosting\" by Guillaume Saupin"
   ]
  },
  {
   "cell_type": "markdown",
   "id": "df84f49e",
   "metadata": {},
   "source": [
    "# Configuration space and sampling"
   ]
  },
  {
   "cell_type": "markdown",
   "id": "b8232a08",
   "metadata": {},
   "source": [
    "There are two prerequisites for finding an optimal hyper-parameter configuration:\n",
    "\n",
    "    1) It is necessary to be able to describe this space of exploration.\n",
    "    \n",
    "    2) It is necessary to be able to sample configurations of this space.\n",
    "    \n",
    "The CongifSpace library in python makes this possible."
   ]
  },
  {
   "cell_type": "code",
   "execution_count": 1,
   "id": "811ff07d",
   "metadata": {},
   "outputs": [],
   "source": [
    "from ConfigSpace import ConfigurationSpace\n",
    "from ConfigSpace.hyperparameters import CategoricalHyperparameter, UniformFloatHyperparameter, UniformIntegerHyperparameter\n",
    "\n",
    "num_trees = UniformIntegerHyperparameter(\"num_trees\", 10, 50, default_value = 10)\n",
    "\n",
    "max_features = UniformIntegerHyperparameter(\"max_features\", 1, 100, default_value = 1)\n",
    "\n",
    "min_weight_frac_leaf =  UniformFloatHyperparameter(\"min_weight_frac_leaf\", 0.0, 0.5, default_value = 0.0)\n",
    "\n",
    "min_samples_to_split = UniformIntegerHyperparameter(\"min_samples_to_split\", 2, 20, default_value = 2)\n",
    "\n",
    "min_samples_in_leaf = UniformIntegerHyperparameter(\"min_samples_in_leaf\", 1, 20, default_value = 1)\n",
    "\n",
    "max_leaf_nodes = UniformIntegerHyperparameter(\"max_leaf_node\", 10, 1000, default_value = 100)"
   ]
  },
  {
   "cell_type": "markdown",
   "id": "a3ec2b7f",
   "metadata": {},
   "source": [
    "It is also possible to add categorical parameters"
   ]
  },
  {
   "cell_type": "code",
   "execution_count": 2,
   "id": "add62e87",
   "metadata": {},
   "outputs": [],
   "source": [
    "do_bootstrapping = CategoricalHyperparameter(\"do_bootstrapping\", [\"true\", \"false\"], default_value = \"true\")\n",
    "criterion = CategoricalHyperparameter(\"criterion\", [\"mse\", \"mae\"], default_value = \"mse\")"
   ]
  },
  {
   "cell_type": "markdown",
   "id": "5f16d403",
   "metadata": {},
   "source": [
    "Finally, all these parameters can be grouped in a configuration space"
   ]
  },
  {
   "cell_type": "code",
   "execution_count": 3,
   "id": "e9003759",
   "metadata": {},
   "outputs": [
    {
     "data": {
      "text/plain": [
       "[num_trees, Type: UniformInteger, Range: [10, 50], Default: 10,\n",
       " min_weight_frac_leaf, Type: UniformFloat, Range: [0.0, 0.5], Default: 0.0,\n",
       " max_features, Type: UniformInteger, Range: [1, 100], Default: 1,\n",
       " min_samples_to_split, Type: UniformInteger, Range: [2, 20], Default: 2,\n",
       " min_samples_in_leaf, Type: UniformInteger, Range: [1, 20], Default: 1,\n",
       " max_leaf_node, Type: UniformInteger, Range: [10, 1000], Default: 100,\n",
       " criterion, Type: Categorical, Choices: {mse, mae}, Default: mse,\n",
       " do_bootstrapping, Type: Categorical, Choices: {true, false}, Default: true]"
      ]
     },
     "execution_count": 3,
     "metadata": {},
     "output_type": "execute_result"
    }
   ],
   "source": [
    "cs = ConfigurationSpace()\n",
    "cs.add_hyperparameters([num_trees, min_weight_frac_leaf, max_features, min_samples_to_split, min_samples_in_leaf,\n",
    "                       max_leaf_nodes, criterion, do_bootstrapping])"
   ]
  },
  {
   "cell_type": "markdown",
   "id": "7a0ada9e",
   "metadata": {},
   "source": [
    "The configutation space can be queried to provide a random configuration"
   ]
  },
  {
   "cell_type": "code",
   "execution_count": 4,
   "id": "b562b4c7",
   "metadata": {},
   "outputs": [
    {
     "data": {
      "text/plain": [
       "Configuration(values={\n",
       "  'criterion': 'mae',\n",
       "  'do_bootstrapping': 'true',\n",
       "  'max_features': 32,\n",
       "  'max_leaf_node': 130,\n",
       "  'min_samples_in_leaf': 7,\n",
       "  'min_samples_to_split': 10,\n",
       "  'min_weight_frac_leaf': 0.373663668924116,\n",
       "  'num_trees': 38,\n",
       "})"
      ]
     },
     "execution_count": 4,
     "metadata": {},
     "output_type": "execute_result"
    }
   ],
   "source": [
    "cs.sample_configuration()"
   ]
  },
  {
   "cell_type": "markdown",
   "id": "4d840b4c",
   "metadata": {},
   "source": [
    "# Optimizer"
   ]
  },
  {
   "cell_type": "code",
   "execution_count": 37,
   "id": "16a1379b",
   "metadata": {},
   "outputs": [],
   "source": [
    "import pandas as pd\n",
    "import numpy as np\n",
    "\n",
    "class Optimizer:\n",
    "    def __init__(self,\n",
    "                algo_score,\n",
    "                max_iter,\n",
    "                max_intensification,\n",
    "                model,\n",
    "                cs):\n",
    "        self.trajectory = []\n",
    "        self.algo_score = algo_score\n",
    "        self.max_iter = max_iter\n",
    "        self.max_intensification = max_intensification\n",
    "        self.internal_model = model()\n",
    "        self.cfgs = []\n",
    "        self.scores = {}\n",
    "        self.best_cfg = None\n",
    "        self.best_score = None\n",
    "        self.cs = cs\n",
    "        \n",
    "    def cfg_to_dtf(self, cfgs):\n",
    "        \n",
    "        try:\n",
    "            cfgs2 = [dict(cfg) for cfg in cfgs]\n",
    "        except:\n",
    "            print(cfg2)\n",
    "            \n",
    "        dtf = pd.DataFrame(cfgs2)\n",
    "        \n",
    "        return dtf\n",
    "    \n",
    "    def optimize(self):\n",
    "        \n",
    "        cfg = self.cs.sample_configuration()\n",
    "        self.cfgs.append(cfg)\n",
    "        self.trajectory.append(cfg)\n",
    "        \n",
    "        score = self.algo_score(cfg)\n",
    "        self.scores[cfg] = score\n",
    "        self.best_cfg = cfg\n",
    "        self.best_score = score\n",
    "        dtf = self.cfg_to_dtf(self.cfgs)\n",
    "        \n",
    "        for i in range(self.max_iter):\n",
    "            \n",
    "            if dtf.shape[0] > 1:\n",
    "                \n",
    "                scores = np.array([val for key, val in self.scores.items()])\n",
    "                self.internal_model.fit(dtf, scores)\n",
    "                \n",
    "                candidates = [self.cs.sample_configuration() for i in range(self.max_intensification)]\n",
    "                candidate_scores = self.internal_model.predict(self.cfg_to_dtf(candidates))\n",
    "                \n",
    "                best_candidates = np.argmax(candidate_scores)\n",
    "                \n",
    "                cfg = candidates[best_candidates]\n",
    "                \n",
    "            else:\n",
    "                \n",
    "                cfg = self.cs.sample_configuration()\n",
    "                \n",
    "            self.cfgs.append(cfg)\n",
    "            score = self.algo_score(cfg)\n",
    "            self.scores[cfg] = score\n",
    "            \n",
    "            if score > self.best_score:\n",
    "                self.best_cfg = cfg\n",
    "                self.best_score = score\n",
    "                self.trajectory.append(cfg)\n",
    "            \n",
    "            dtf = self.cfg_to_dtf(self.cfgs)"
   ]
  },
  {
   "cell_type": "markdown",
   "id": "4c01c5ee",
   "metadata": {},
   "source": [
    "# Case stude: California housing"
   ]
  },
  {
   "cell_type": "code",
   "execution_count": 39,
   "id": "0cad7b74",
   "metadata": {},
   "outputs": [],
   "source": [
    "from sklearn.datasets import fetch_california_housing\n",
    "from sklearn.ensemble import RandomForestRegressor\n",
    "from catboost import CatBoostRegressor\n",
    "from xgboost.sklearn import XGBRegressor\n",
    "from sklearn.metrics import make_scorer\n",
    "from sklearn.model_selection import cross_val_score\n",
    "\n",
    "import matplotlib.pyplot as plt"
   ]
  },
  {
   "cell_type": "code",
   "execution_count": 40,
   "id": "a0173292",
   "metadata": {},
   "outputs": [],
   "source": [
    "def run(data, target, cfg):\n",
    "    \n",
    "    cfg_dict = {key:cfg[key] for key in cfg}\n",
    "    \n",
    "    rfr = RandomForestRegressor(**cfg_dict)\n",
    "    \n",
    "    def rmse(y, y_pred):\n",
    "        return np.sqrt(np.mean(y_pred - y)**2)\n",
    "    \n",
    "    rmse_scorer = make_scorer(rmse, greater_is_better = False)\n",
    "    score = cross_val_score(rfr, data, target, cv = 5, scoring=rmse_scorer, verbose = 0)\n",
    "    score = np.mean(score)\n",
    "    \n",
    "    return score"
   ]
  },
  {
   "cell_type": "code",
   "execution_count": 41,
   "id": "d14ef86a",
   "metadata": {},
   "outputs": [],
   "source": [
    "num_trees = UniformIntegerHyperparameter(\"n_estimators\", 10, 50, default_value = 10)\n",
    "\n",
    "max_features = UniformIntegerHyperparameter(\"max_features\", 1, 13, default_value = 1)\n",
    "\n",
    "min_weight_frac_leaf =  UniformFloatHyperparameter(\"min_weight_fraction_leaf\", 0.0, 0.5, default_value = 0.0)\n",
    "\n",
    "min_samples_to_split = UniformIntegerHyperparameter(\"min_samples_split\", 2, 20, default_value = 2)\n",
    "\n",
    "min_samples_in_leaf = UniformIntegerHyperparameter(\"min_samples_leaf\", 1, 20, default_value = 1)\n",
    "\n",
    "max_leaf_nodes = UniformIntegerHyperparameter(\"max_leaf_nodes\", 10, 1000, default_value = 100)\n",
    "\n",
    "do_bootstrapping = CategoricalHyperparameter(\"bootstrap\", [True, False], default_value = True)\n",
    "\n",
    "criterion = CategoricalHyperparameter(\"criterion\", [\"friedman_mse\", \"absolute_error\"], default_value = \"friedman_mse\")"
   ]
  },
  {
   "cell_type": "code",
   "execution_count": 42,
   "id": "c406fdc3",
   "metadata": {},
   "outputs": [
    {
     "data": {
      "text/plain": [
       "[n_estimators, Type: UniformInteger, Range: [10, 50], Default: 10,\n",
       " min_weight_fraction_leaf, Type: UniformFloat, Range: [0.0, 0.5], Default: 0.0,\n",
       " max_features, Type: UniformInteger, Range: [1, 13], Default: 1,\n",
       " min_samples_split, Type: UniformInteger, Range: [2, 20], Default: 2,\n",
       " min_samples_leaf, Type: UniformInteger, Range: [1, 20], Default: 1,\n",
       " max_leaf_nodes, Type: UniformInteger, Range: [10, 1000], Default: 100,\n",
       " criterion, Type: Categorical, Choices: {friedman_mse, absolute_error}, Default: friedman_mse,\n",
       " bootstrap, Type: Categorical, Choices: {True, False}, Default: True]"
      ]
     },
     "execution_count": 42,
     "metadata": {},
     "output_type": "execute_result"
    }
   ],
   "source": [
    "cs = ConfigurationSpace()\n",
    "cs.add_hyperparameters([num_trees, min_weight_frac_leaf, max_features, min_samples_to_split, min_samples_in_leaf,\n",
    "                       max_leaf_nodes, criterion, do_bootstrapping])"
   ]
  },
  {
   "cell_type": "code",
   "execution_count": 43,
   "id": "20c08586",
   "metadata": {},
   "outputs": [],
   "source": [
    "housing = fetch_california_housing()\n",
    "max_intensity = 25"
   ]
  },
  {
   "cell_type": "code",
   "execution_count": null,
   "id": "7cb3af43",
   "metadata": {},
   "outputs": [],
   "source": [
    "%%time\n",
    "optimizer = Optimizer(lambda cfg: run(housing.data, housing.target, cfg), 50, 250,\n",
    "                     lambda: CatBoostRegressor(cat_features = [\"criterion\", \"bootstrap\"]), cs)\n",
    "optimizer.optimize()"
   ]
  },
  {
   "cell_type": "markdown",
   "id": "b21ddfd4",
   "metadata": {},
   "source": [
    "## For XGBoost"
   ]
  },
  {
   "cell_type": "code",
   "execution_count": 45,
   "id": "0ba2b65b",
   "metadata": {},
   "outputs": [
    {
     "data": {
      "text/plain": [
       "[n_estimators, Type: UniformInteger, Range: [10, 50], Default: 10,\n",
       " min_weight_fraction_leaf, Type: UniformFloat, Range: [0.0, 0.5], Default: 0.0,\n",
       " max_features, Type: UniformInteger, Range: [1, 13], Default: 1,\n",
       " min_samples_split, Type: UniformInteger, Range: [2, 20], Default: 2,\n",
       " min_samples_leaf, Type: UniformInteger, Range: [1, 20], Default: 1,\n",
       " max_leaf_nodes, Type: UniformInteger, Range: [10, 1000], Default: 100]"
      ]
     },
     "execution_count": 45,
     "metadata": {},
     "output_type": "execute_result"
    }
   ],
   "source": [
    "cs = ConfigurationSpace()\n",
    "cs.add_hyperparameters([num_trees, min_weight_frac_leaf, max_features, min_samples_to_split, min_samples_in_leaf, max_leaf_nodes])"
   ]
  },
  {
   "cell_type": "code",
   "execution_count": 46,
   "id": "7b57dc05",
   "metadata": {},
   "outputs": [
    {
     "name": "stdout",
     "output_type": "stream",
     "text": [
      "CPU times: total: 11min 18s\n",
      "Wall time: 10min 13s\n"
     ]
    }
   ],
   "source": [
    "%%time\n",
    "optimizer_xgb = Optimizer(lambda cfg: run(housing.data, housing.target, cfg), 50, 250,\n",
    "                         XGBRegressor, cs)\n",
    "optimizer_xgb.optimize()"
   ]
  },
  {
   "cell_type": "markdown",
   "id": "8dc8f8b5",
   "metadata": {},
   "source": [
    "# Plotting the results"
   ]
  },
  {
   "cell_type": "code",
   "execution_count": 53,
   "id": "7b6801c3",
   "metadata": {},
   "outputs": [
    {
     "data": {
      "text/plain": [
       "[<matplotlib.lines.Line2D at 0x21f5010c8e0>]"
      ]
     },
     "execution_count": 53,
     "metadata": {},
     "output_type": "execute_result"
    },
    {
     "data": {
      "image/png": "[encoded data removed]",
      "text/plain": [
       "<Figure size 640x480 with 1 Axes>"
      ]
     },
     "metadata": {},
     "output_type": "display_data"
    }
   ],
   "source": [
    "plt.plot(optimizer.scores.values())\n",
    "plt.plot(optimizer_xgb.scores.values())"
   ]
  }
 ],
 "metadata": {
  "kernelspec": {
   "display_name": "pGBoost",
   "language": "python",
   "name": "pgboost"
  },
  "language_info": {
   "codemirror_mode": {
    "name": "ipython",
    "version": 3
   },
   "file_extension": ".py",
   "mimetype": "text/x-python",
   "name": "python",
   "nbconvert_exporter": "python",
   "pygments_lexer": "ipython3",
   "version": "3.9.2"
  }
 },
 "nbformat": 4,
 "nbformat_minor": 5
}
